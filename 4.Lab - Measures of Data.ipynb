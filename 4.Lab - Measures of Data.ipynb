{
 "cells": [
  {
   "cell_type": "markdown",
   "metadata": {},
   "source": [
    "## Lab Brief - Statistical Learning with Python"
   ]
  },
  {
   "cell_type": "markdown",
   "metadata": {},
   "source": [
    "### Part-1"
   ]
  },
  {
   "cell_type": "markdown",
   "metadata": {},
   "source": [
    "## Measures of Data"
   ]
  },
  {
   "cell_type": "markdown",
   "metadata": {},
   "source": [
    "Descriptive Statistcs are measures that summarize important features of data. Producing these descriptive statistics is a common first step to take after cleaning and preparing a dataset for further analysis. Examples are like calculating Mean or Median. In this lab, we will be looking into some of these functions and explore several new ones."
   ]
  },
  {
   "cell_type": "markdown",
   "metadata": {},
   "source": [
    "#### Measures of Central Tendency"
   ]
  },
  {
   "cell_type": "markdown",
   "metadata": {},
   "source": [
    "Whenever you measure things of the same kind, a fairly large number of such measurements will tend to cluster around the middle value. Such a value is called a measure of \"Central Tendency\". The other terms that are used synonymously are \"Measures of Location\", or \"Statistical Averages\". "
   ]
  },
  {
   "cell_type": "code",
   "execution_count": 2,
   "metadata": {},
   "outputs": [],
   "source": [
    "import numpy as np\n",
    "import pandas as pd\n",
    "import matplotlib.pyplot as plt\n",
    "\n",
    "mtcars = pd.read_csv('mtcars.csv')"
   ]
  },
  {
   "cell_type": "markdown",
   "metadata": {},
   "source": [
    "##### Using the mtcars dataset.\n",
    "\n",
    "For the below set of questions, we will be using the cars data from [Motor Trend Car Road Tests](http://stat.ethz.ch/R-manual/R-devel/library/datasets/html/mtcars.html)\n",
    "\n",
    "The data was extracted from the 1974 Motor Trend US magazine, and comprises fuel consumption and 10 aspects of automobile design and performance for 32 automobiles (1973–74 models). \n",
    "\n",
    "\n",
    "Details :\n",
    "    \n",
    "A data frame with 32 observations on 11 (numeric) variables.\n",
    "\n",
    "[, 1] \tmpg \tMiles/(US) gallon\n",
    "\n",
    "[, 2] \tcyl \tNumber of cylinders\n",
    "\n",
    "[, 3] \tdisp \tDisplacement (cu.in.)\n",
    "\n",
    "[, 4] \thp \tGross horsepower\n",
    "\n",
    "[, 5] \tdrat \tRear axle ratio\n",
    "\n",
    "[, 6] \twt \tWeight (1000 lbs)\n",
    "\n",
    "[, 7] \tqsec \t1/4 mile time\n",
    "\n",
    "[, 8] \tvs \tEngine (0 = V-shaped, 1 = straight)\n",
    "\n",
    "[, 9] \tam \tTransmission (0 = automatic, 1 = manual)\n",
    "\n",
    "[,10] \tgear \tNumber of forward gears\n",
    "\n",
    "[,11] \tcarb \tNumber of carburetors "
   ]
  },
  {
   "cell_type": "markdown",
   "metadata": {},
   "source": [
    "#### Explore the data - Setting the index"
   ]
  },
  {
   "cell_type": "code",
   "execution_count": 3,
   "metadata": {},
   "outputs": [
    {
     "data": {
      "text/html": [
       "<div>\n",
       "<style scoped>\n",
       "    .dataframe tbody tr th:only-of-type {\n",
       "        vertical-align: middle;\n",
       "    }\n",
       "\n",
       "    .dataframe tbody tr th {\n",
       "        vertical-align: top;\n",
       "    }\n",
       "\n",
       "    .dataframe thead th {\n",
       "        text-align: right;\n",
       "    }\n",
       "</style>\n",
       "<table border=\"1\" class=\"dataframe\">\n",
       "  <thead>\n",
       "    <tr style=\"text-align: right;\">\n",
       "      <th></th>\n",
       "      <th>name</th>\n",
       "      <th>mpg</th>\n",
       "      <th>cyl</th>\n",
       "      <th>disp</th>\n",
       "      <th>hp</th>\n",
       "      <th>drat</th>\n",
       "      <th>wt</th>\n",
       "      <th>qsec</th>\n",
       "      <th>vs</th>\n",
       "      <th>am</th>\n",
       "      <th>gear</th>\n",
       "      <th>carb</th>\n",
       "    </tr>\n",
       "    <tr>\n",
       "      <th>name</th>\n",
       "      <th></th>\n",
       "      <th></th>\n",
       "      <th></th>\n",
       "      <th></th>\n",
       "      <th></th>\n",
       "      <th></th>\n",
       "      <th></th>\n",
       "      <th></th>\n",
       "      <th></th>\n",
       "      <th></th>\n",
       "      <th></th>\n",
       "      <th></th>\n",
       "    </tr>\n",
       "  </thead>\n",
       "  <tbody>\n",
       "    <tr>\n",
       "      <th>Mazda RX4</th>\n",
       "      <td>Mazda RX4</td>\n",
       "      <td>21.0</td>\n",
       "      <td>6</td>\n",
       "      <td>160.0</td>\n",
       "      <td>110</td>\n",
       "      <td>3.90</td>\n",
       "      <td>2.620</td>\n",
       "      <td>16.46</td>\n",
       "      <td>0</td>\n",
       "      <td>1</td>\n",
       "      <td>4</td>\n",
       "      <td>4</td>\n",
       "    </tr>\n",
       "    <tr>\n",
       "      <th>Mazda RX4 Wag</th>\n",
       "      <td>Mazda RX4 Wag</td>\n",
       "      <td>21.0</td>\n",
       "      <td>6</td>\n",
       "      <td>160.0</td>\n",
       "      <td>110</td>\n",
       "      <td>3.90</td>\n",
       "      <td>2.875</td>\n",
       "      <td>17.02</td>\n",
       "      <td>0</td>\n",
       "      <td>1</td>\n",
       "      <td>4</td>\n",
       "      <td>4</td>\n",
       "    </tr>\n",
       "    <tr>\n",
       "      <th>Datsun 710</th>\n",
       "      <td>Datsun 710</td>\n",
       "      <td>22.8</td>\n",
       "      <td>4</td>\n",
       "      <td>108.0</td>\n",
       "      <td>93</td>\n",
       "      <td>3.85</td>\n",
       "      <td>2.320</td>\n",
       "      <td>18.61</td>\n",
       "      <td>1</td>\n",
       "      <td>1</td>\n",
       "      <td>4</td>\n",
       "      <td>1</td>\n",
       "    </tr>\n",
       "    <tr>\n",
       "      <th>Hornet 4 Drive</th>\n",
       "      <td>Hornet 4 Drive</td>\n",
       "      <td>21.4</td>\n",
       "      <td>6</td>\n",
       "      <td>258.0</td>\n",
       "      <td>110</td>\n",
       "      <td>3.08</td>\n",
       "      <td>3.215</td>\n",
       "      <td>19.44</td>\n",
       "      <td>1</td>\n",
       "      <td>0</td>\n",
       "      <td>3</td>\n",
       "      <td>1</td>\n",
       "    </tr>\n",
       "    <tr>\n",
       "      <th>Hornet Sportabout</th>\n",
       "      <td>Hornet Sportabout</td>\n",
       "      <td>18.7</td>\n",
       "      <td>8</td>\n",
       "      <td>360.0</td>\n",
       "      <td>175</td>\n",
       "      <td>3.15</td>\n",
       "      <td>3.440</td>\n",
       "      <td>17.02</td>\n",
       "      <td>0</td>\n",
       "      <td>0</td>\n",
       "      <td>3</td>\n",
       "      <td>2</td>\n",
       "    </tr>\n",
       "  </tbody>\n",
       "</table>\n",
       "</div>"
      ],
      "text/plain": [
       "                                name   mpg  cyl   disp   hp  drat     wt  \\\n",
       "name                                                                       \n",
       "Mazda RX4                  Mazda RX4  21.0    6  160.0  110  3.90  2.620   \n",
       "Mazda RX4 Wag          Mazda RX4 Wag  21.0    6  160.0  110  3.90  2.875   \n",
       "Datsun 710                Datsun 710  22.8    4  108.0   93  3.85  2.320   \n",
       "Hornet 4 Drive        Hornet 4 Drive  21.4    6  258.0  110  3.08  3.215   \n",
       "Hornet Sportabout  Hornet Sportabout  18.7    8  360.0  175  3.15  3.440   \n",
       "\n",
       "                    qsec  vs  am  gear  carb  \n",
       "name                                          \n",
       "Mazda RX4          16.46   0   1     4     4  \n",
       "Mazda RX4 Wag      17.02   0   1     4     4  \n",
       "Datsun 710         18.61   1   1     4     1  \n",
       "Hornet 4 Drive     19.44   1   0     3     1  \n",
       "Hornet Sportabout  17.02   0   0     3     2  "
      ]
     },
     "execution_count": 3,
     "metadata": {},
     "output_type": "execute_result"
    }
   ],
   "source": [
    "mtcars.index = mtcars[\"name\"]\n",
    "mtcars.head()\n",
    "# mtcars.mean() #By default this will give the mean of each column"
   ]
  },
  {
   "cell_type": "markdown",
   "metadata": {},
   "source": [
    "### Question 1\n",
    "\n",
    "What is the first car name given in mtcars?\n",
    "\n",
    "** Make use of index which has been set previously **\n",
    "\n",
    "**Hint**: Use .loc function\n"
   ]
  },
  {
   "cell_type": "code",
   "execution_count": 10,
   "metadata": {
    "scrolled": true
   },
   "outputs": [
    {
     "data": {
      "text/plain": [
       "'Mazda RX4'"
      ]
     },
     "execution_count": 10,
     "metadata": {},
     "output_type": "execute_result"
    }
   ],
   "source": [
    "mtcars.index[0]"
   ]
  },
  {
   "cell_type": "markdown",
   "metadata": {},
   "source": [
    "### Question 2\n",
    "What is the highest difference between the hp and cyl?\n",
    "\n",
    "**Hint:** You can use **max()** function to find the difference"
   ]
  },
  {
   "cell_type": "code",
   "execution_count": 61,
   "metadata": {},
   "outputs": [
    {
     "data": {
      "text/plain": [
       "327"
      ]
     },
     "execution_count": 61,
     "metadata": {},
     "output_type": "execute_result"
    }
   ],
   "source": [
    "(mtcars['hp']- mtcars['cyl']).max()"
   ]
  },
  {
   "cell_type": "markdown",
   "metadata": {},
   "source": [
    "### Question 3\n",
    "What are the cars having highest weight(wt) and lowest weight(wt)?\n",
    "\n",
    "**Hint:** Use idxmax() and idxmin() to locate the row\n",
    "\n",
    "Use **.iloc** function to print the  row\n",
    "\n",
    "**Note:** Both idxmax and idxmin belong to pandas"
   ]
  },
  {
   "cell_type": "code",
   "execution_count": 35,
   "metadata": {},
   "outputs": [
    {
     "data": {
      "text/plain": [
       "'Lincoln Continental'"
      ]
     },
     "execution_count": 35,
     "metadata": {},
     "output_type": "execute_result"
    }
   ],
   "source": [
    "mtcars['wt'].idxmax()\n"
   ]
  },
  {
   "cell_type": "code",
   "execution_count": 40,
   "metadata": {},
   "outputs": [
    {
     "data": {
      "text/plain": [
       "'Lotus Europa'"
      ]
     },
     "execution_count": 40,
     "metadata": {},
     "output_type": "execute_result"
    }
   ],
   "source": [
    "mtcars['wt'].idxmin()"
   ]
  },
  {
   "cell_type": "markdown",
   "metadata": {},
   "source": [
    "### Question 4\n",
    "\n",
    "Find the mean of each row and each column in the given dataset.\n",
    "\n",
    "**Hint:** Use .mean() function. To operate on rows use **axis=0**, on columns use **axis=1**"
   ]
  },
  {
   "cell_type": "code",
   "execution_count": 45,
   "metadata": {},
   "outputs": [
    {
     "data": {
      "text/plain": [
       "mpg      20.090625\n",
       "cyl       6.187500\n",
       "disp    230.721875\n",
       "hp      146.687500\n",
       "drat      3.596563\n",
       "wt        3.217250\n",
       "qsec     17.848750\n",
       "vs        0.437500\n",
       "am        0.406250\n",
       "gear      3.687500\n",
       "carb      2.812500\n",
       "dtype: float64"
      ]
     },
     "execution_count": 45,
     "metadata": {},
     "output_type": "execute_result"
    }
   ],
   "source": [
    "mtcars.mean(axis=0)"
   ]
  },
  {
   "cell_type": "code",
   "execution_count": 44,
   "metadata": {},
   "outputs": [
    {
     "data": {
      "text/plain": [
       "name\n",
       "Mazda RX4              29.907273\n",
       "Mazda RX4 Wag          29.981364\n",
       "Datsun 710             23.598182\n",
       "Hornet 4 Drive         38.739545\n",
       "Hornet Sportabout      53.664545\n",
       "Valiant                35.049091\n",
       "Duster 360             59.720000\n",
       "Merc 240D              24.634545\n",
       "Merc 230               27.233636\n",
       "Merc 280               31.860000\n",
       "Merc 280C              31.787273\n",
       "Merc 450SE             46.430909\n",
       "Merc 450SL             46.500000\n",
       "Merc 450SLC            46.350000\n",
       "Cadillac Fleetwood     66.232727\n",
       "Lincoln Continental    66.058545\n",
       "Chrysler Imperial      65.972273\n",
       "Fiat 128               19.440909\n",
       "Honda Civic            17.742273\n",
       "Toyota Corolla         18.814091\n",
       "Toyota Corona          24.888636\n",
       "Dodge Challenger       47.240909\n",
       "AMC Javelin            46.007727\n",
       "Camaro Z28             58.752727\n",
       "Pontiac Firebird       57.379545\n",
       "Fiat X1-9              18.928636\n",
       "Porsche 914-2          24.779091\n",
       "Lotus Europa           24.880273\n",
       "Ford Pantera L         60.971818\n",
       "Ferrari Dino           34.508182\n",
       "Maserati Bora          63.155455\n",
       "Volvo 142E             26.262727\n",
       "dtype: float64"
      ]
     },
     "execution_count": 44,
     "metadata": {},
     "output_type": "execute_result"
    }
   ],
   "source": [
    "mtcars.mean(axis=1)"
   ]
  },
  {
   "cell_type": "markdown",
   "metadata": {},
   "source": [
    "### Question 5\n",
    "\n",
    "Plot mpg values of mtcards dataframe using matplotlib.\n",
    "\n",
    "**Hint: Use plt.plot function**"
   ]
  },
  {
   "cell_type": "code",
   "execution_count": 48,
   "metadata": {},
   "outputs": [
    {
     "data": {
      "text/plain": [
       "[<matplotlib.lines.Line2D at 0x1088da978>]"
      ]
     },
     "execution_count": 48,
     "metadata": {},
     "output_type": "execute_result"
    },
    {
     "data": {
      "image/png": "[encoded data removed]",
      "text/plain": [
       "<Figure size 432x288 with 1 Axes>"
      ]
     },
     "metadata": {},
     "output_type": "display_data"
    }
   ],
   "source": [
    "import matplotlib.pyplot as plt\n",
    "plt.plot(mtcars['mpg'])"
   ]
  },
  {
   "cell_type": "markdown",
   "metadata": {},
   "source": [
    "## Part 2"
   ]
  },
  {
   "cell_type": "markdown",
   "metadata": {},
   "source": [
    "## Measures of Dispersion"
   ]
  },
  {
   "cell_type": "markdown",
   "metadata": {},
   "source": [
    "Measures of Dispersion (Spread) are statistics that describe how data varies. Measure of dispersion gives us the sense of how much the data tends to diverge from the central tendency."
   ]
  },
  {
   "cell_type": "markdown",
   "metadata": {},
   "source": [
    "### Question 6\n",
    "\n",
    "What the range of `mpg` in the given dataset?\n",
    "\n",
    "**Hint:** Range = max-min"
   ]
  },
  {
   "cell_type": "code",
   "execution_count": 51,
   "metadata": {},
   "outputs": [
    {
     "data": {
      "text/plain": [
       "23.5"
      ]
     },
     "execution_count": 51,
     "metadata": {},
     "output_type": "execute_result"
    }
   ],
   "source": [
    "Range = mtcars['mpg'].max() - mtcars['mpg'].min()\n",
    "Range"
   ]
  },
  {
   "cell_type": "markdown",
   "metadata": {},
   "source": [
    "### Question 7\n",
    "\n",
    "Calculate the 25th quantile (lower quantile)for `mpg` in the given dataset.\n",
    "\n",
    "**Hint:** Use **.quantile()**"
   ]
  },
  {
   "cell_type": "code",
   "execution_count": 52,
   "metadata": {},
   "outputs": [
    {
     "data": {
      "text/plain": [
       "15.425"
      ]
     },
     "execution_count": 52,
     "metadata": {},
     "output_type": "execute_result"
    }
   ],
   "source": [
    "mtcars['mpg'].quantile(q=0.25)"
   ]
  },
  {
   "cell_type": "markdown",
   "metadata": {},
   "source": [
    "### Question 8\n",
    "\n",
    "Calculate the Inter-Quartile Range(IQR) for `mpg` in the given dataset."
   ]
  },
  {
   "cell_type": "markdown",
   "metadata": {},
   "source": [
    "Interquartile range (IQR) is another common measure of spread. IQR is the distance between the 3rd quartile and the 1st quartile.\n",
    "\n",
    "**Hint:** IQR = Q3 - Q1"
   ]
  },
  {
   "cell_type": "code",
   "execution_count": 53,
   "metadata": {},
   "outputs": [
    {
     "data": {
      "text/plain": [
       "7.375"
      ]
     },
     "execution_count": 53,
     "metadata": {},
     "output_type": "execute_result"
    }
   ],
   "source": [
    "IQR=(mtcars['mpg'].quantile(q=0.75))-(mtcars['mpg'].quantile(q=0.25))\n",
    "IQR"
   ]
  },
  {
   "cell_type": "markdown",
   "metadata": {},
   "source": [
    "### Question 9\n",
    "\n",
    "Calculate the Variance, Standard Deviation and Median Absolute Deviation for `mpg`."
   ]
  },
  {
   "cell_type": "markdown",
   "metadata": {},
   "source": [
    "Variance and Standard Deviation are two other common measure of dispersion.\n",
    "\n",
    "**Hint:** Use .var() and .std()"
   ]
  },
  {
   "cell_type": "markdown",
   "metadata": {},
   "source": [
    "**Hint:** Median Absolute Deviation - alternative measure of spread based on the median. It is the median of the absolute value of the deviations from the median. "
   ]
  },
  {
   "cell_type": "code",
   "execution_count": 54,
   "metadata": {},
   "outputs": [
    {
     "data": {
      "text/plain": [
       "36.32410282258065"
      ]
     },
     "execution_count": 54,
     "metadata": {},
     "output_type": "execute_result"
    }
   ],
   "source": [
    "mtcars['mpg'].var()"
   ]
  },
  {
   "cell_type": "code",
   "execution_count": 55,
   "metadata": {},
   "outputs": [
    {
     "data": {
      "text/plain": [
       "6.026948052089105"
      ]
     },
     "execution_count": 55,
     "metadata": {},
     "output_type": "execute_result"
    }
   ],
   "source": [
    "mtcars['mpg'].std()"
   ]
  },
  {
   "cell_type": "markdown",
   "metadata": {},
   "source": [
    "## Part 3"
   ]
  },
  {
   "cell_type": "markdown",
   "metadata": {},
   "source": [
    "## Probability Distributions"
   ]
  },
  {
   "cell_type": "markdown",
   "metadata": {},
   "source": [
    "The probability distribution describes how a random variable is distributed. It tells us which values a variable is most likely to take on and which values are less likely to take on. "
   ]
  },
  {
   "cell_type": "markdown",
   "metadata": {},
   "source": [
    "Each value in the given range is equally likely to occur. "
   ]
  },
  {
   "cell_type": "code",
   "execution_count": 56,
   "metadata": {},
   "outputs": [],
   "source": [
    "import scipy.stats as stats # Many functions for probability distributions in python are in scipy.stats"
   ]
  },
  {
   "cell_type": "markdown",
   "metadata": {},
   "source": [
    "### Question 10\n",
    "\n",
    "Generate 1000 datapoints with standard normal distribution with mean 0 and standard deviation 1. "
   ]
  },
  {
   "cell_type": "markdown",
   "metadata": {},
   "source": [
    "#### Normal Distribution"
   ]
  },
  {
   "cell_type": "markdown",
   "metadata": {},
   "source": [
    "The normal or Gaussian Distribution is a continuos probability distribution given by a symmetric bell shaped curve. It is defined its center(mean) and spread(std)."
   ]
  },
  {
   "cell_type": "markdown",
   "metadata": {},
   "source": [
    "The bulk of the observations generated from a normal distribution lie near the mean which lies at the center. About 68% of the data lies within 1 std, 95% lies within 2 stds and 99.7% lies within 3 stds.\n",
    "\n",
    "**Hint:** You can use **np.random.normal()** function to generate normal distribution"
   ]
  },
  {
   "cell_type": "code",
   "execution_count": 65,
   "metadata": {},
   "outputs": [
    {
     "data": {
      "text/plain": [
       "array([ 1.65108382e+00, -9.21271208e-01,  1.44465165e-01,  5.72646861e-01,\n",
       "        1.11207666e+00, -9.51375477e-01, -6.53761364e-01, -4.36762839e-01,\n",
       "        2.17395454e-01,  9.43219516e-01, -2.47622119e-01,  3.42070789e-01,\n",
       "        1.11713856e+00, -8.40714358e-01, -1.95825001e+00,  2.78212176e-01,\n",
       "       -7.05807123e-01, -8.46742772e-01, -8.93708597e-02, -8.94004079e-01,\n",
       "       -9.08567761e-01,  4.59744115e-01,  2.72106788e-02, -1.75542981e-01,\n",
       "       -3.25328732e-01, -5.02057487e-01, -6.02231993e-01,  5.09703605e-01,\n",
       "        5.29134627e-01, -1.47631324e+00,  3.15000177e-01, -4.27524356e-01,\n",
       "       -8.10931368e-01,  1.04847933e+00, -6.98805543e-01, -1.70304823e+00,\n",
       "        2.02453954e+00, -6.46105991e-01,  1.43100412e-01,  3.31588132e-01,\n",
       "       -4.44936528e-01, -1.31621822e+00,  1.35424324e+00,  9.25213876e-01,\n",
       "       -5.52475605e-01, -4.13778159e-01,  1.45984440e-02,  1.10957403e+00,\n",
       "        4.89061595e-01,  8.84992123e-01,  9.47431161e-01, -1.71761527e+00,\n",
       "       -3.84041225e-01,  7.21169047e-01, -1.23146637e+00, -8.64420776e-01,\n",
       "       -6.21958779e-01,  4.36138444e-01,  4.25930842e-01, -3.21203904e-01,\n",
       "       -1.69474328e+00, -1.85030674e+00, -2.97796577e+00, -2.22893880e-01,\n",
       "        4.71461057e-01, -4.29225512e-01, -1.02046196e+00, -1.31757672e+00,\n",
       "        5.61202320e-01,  4.32681775e-01, -4.84711271e-01,  1.20687515e+00,\n",
       "        8.88864406e-02,  1.58830137e-01,  4.49765205e-01,  5.05156487e-02,\n",
       "        6.74431523e-01,  2.00871929e+00,  6.85403350e-01, -1.39776477e-01,\n",
       "        8.22762955e-01, -4.76100344e-01,  7.62028921e-01, -1.73035887e+00,\n",
       "       -6.95630023e-01, -1.01615655e+00, -2.77004640e-01, -1.06624261e+00,\n",
       "       -9.42740862e-01,  1.53140990e-01, -1.80614273e+00, -2.98944235e-01,\n",
       "       -1.97838798e+00, -7.96697718e-02, -1.10971263e+00, -9.03657172e-01,\n",
       "       -4.77344718e-01, -5.26313721e-01,  1.28712701e+00,  5.69884899e-01,\n",
       "        6.58625235e-01,  1.91785837e+00,  4.72934551e-01,  4.56014642e-02,\n",
       "       -8.34369369e-01, -9.54494342e-03, -1.64268271e+00,  1.81286867e+00,\n",
       "       -7.76438995e-01,  1.12755229e-01, -3.88541085e-01,  2.16908569e-01,\n",
       "        4.47118452e-01, -9.22357711e-01, -6.67511793e-01, -8.36387397e-01,\n",
       "       -3.13301568e-01, -1.31121607e-01, -1.21131404e+00,  4.95705998e-01,\n",
       "        1.48689812e+00,  9.13469082e-01, -2.23448120e-01,  3.01911421e-01,\n",
       "        1.68451578e+00,  4.89475648e-02,  2.16963030e-01,  4.66380855e-02,\n",
       "        9.24617516e-01,  2.65681586e-01,  2.82005478e-01,  4.71610007e-01,\n",
       "        9.90442351e-01,  3.58962242e-01,  1.18118407e-01, -2.25450755e-01,\n",
       "       -9.93570982e-01,  6.38403997e-01,  1.71950180e-01, -1.31787104e+00,\n",
       "        9.00392259e-01, -4.98541197e-01,  4.36033119e-01, -5.01965498e-01,\n",
       "       -1.60293838e+00, -1.77360117e-01, -2.55295162e+00,  1.17392119e+00,\n",
       "        7.75905412e-01, -6.61887211e-01,  7.71757115e-02, -5.54148788e-01,\n",
       "        8.75947278e-01, -1.41294176e+00, -3.72243627e-01, -6.56124278e-01,\n",
       "        1.30038773e+00, -8.00997712e-01, -2.19355570e+00,  8.66941750e-01,\n",
       "       -1.19260053e+00, -1.47803811e-01, -1.87065389e+00, -1.21209336e-01,\n",
       "       -1.22415595e+00, -2.71391331e-01,  1.37601842e+00, -8.32750953e-01,\n",
       "       -9.48370215e-01,  1.04416182e+00,  2.55221027e-01,  4.05853672e-01,\n",
       "        4.95341970e-01, -1.93818000e+00, -4.82804682e-01, -8.88446776e-01,\n",
       "        4.23594455e-01, -2.58255178e-01, -1.69561003e-01, -7.64901708e-01,\n",
       "       -8.97149646e-01,  8.20892686e-01, -2.49252196e-01, -7.71263204e-01,\n",
       "        1.55540728e+00, -1.16755480e+00,  1.04236539e+00, -5.51638254e-01,\n",
       "        1.04510627e+00, -1.57625679e+00, -2.47029601e-01,  1.22505557e+00,\n",
       "        1.22134668e+00,  4.33856796e-01, -1.52161819e+00,  2.29423386e+00,\n",
       "        9.42080008e-01, -3.44713032e-01,  4.33206772e-01,  1.37311862e+00,\n",
       "        1.70453129e+00, -1.13692389e+00,  2.20389959e+00,  5.97217778e-01,\n",
       "        1.82463817e+00,  2.00475219e-01, -9.04448490e-01, -1.03432163e+00,\n",
       "       -8.62735008e-01,  1.44771255e+00,  3.32980901e-01,  6.32997872e-01,\n",
       "       -5.55591637e-01,  8.35637160e-01, -9.82203440e-01, -1.14377209e+00,\n",
       "       -9.24767908e-01,  1.77739146e+00,  7.55498966e-02,  4.24229899e-01,\n",
       "        9.76533469e-02,  2.59201808e-01,  2.02644548e+00, -6.31332391e-02,\n",
       "       -2.02401048e+00, -1.50897363e+00, -7.47628277e-01,  8.28425277e-01,\n",
       "       -8.77742722e-01,  3.70619704e-01,  7.59014880e-01, -1.03814927e+00,\n",
       "       -4.82015526e-01,  1.19302987e-04, -3.98318654e-01,  1.30328491e+00,\n",
       "        1.62994300e+00, -1.27757229e+00, -1.39679096e+00, -1.05876583e+00,\n",
       "        4.47732473e-01, -1.61288019e-01,  1.64838965e-01,  4.26222194e-01,\n",
       "        5.77050785e-01,  6.92905603e-01,  1.61197245e+00,  2.06780740e+00,\n",
       "        1.04696356e+00, -6.99233901e-01,  2.85569064e-01, -2.64775806e+00,\n",
       "        1.22888866e-01,  4.00279241e-01, -9.44250902e-02, -9.72920776e-01,\n",
       "        6.97026993e-01,  6.58531397e-01,  6.78465192e-01, -3.05641458e-01,\n",
       "       -3.34947807e-01, -1.60726521e-01, -2.21466564e+00, -2.49063478e-01,\n",
       "        9.19708054e-01,  1.14806187e+00, -5.19575296e-01, -5.07051497e-01,\n",
       "        1.29021847e+00,  1.35877649e+00, -7.84692007e-01, -3.53417463e-01,\n",
       "        1.11921663e+00, -8.14819511e-01,  7.69894957e-01, -1.94220975e-01,\n",
       "       -2.19193571e-01,  2.30009863e-01,  3.31778925e-01, -1.01416385e+00,\n",
       "       -5.49384820e-01,  2.64704201e-01,  6.99843949e-01, -1.37820994e+00,\n",
       "        1.69926466e+00,  2.10592659e+00,  5.57665574e-02,  4.12152001e-01,\n",
       "       -1.43598144e+00, -4.67466138e-01,  2.26426277e-01, -5.28534254e-01,\n",
       "       -6.27887484e-02, -1.98453368e+00,  2.35037468e-03,  1.11619432e+00,\n",
       "       -1.53696410e+00, -7.95949180e-01,  1.03199138e+00,  2.12360100e+00,\n",
       "        2.07181313e-01, -5.81513139e-01, -1.75309940e-01,  4.91171752e-01,\n",
       "       -9.49514179e-01,  1.35732643e+00, -1.83389865e+00,  1.34571185e+00,\n",
       "       -2.92660495e-01,  8.34176802e-02, -8.13568584e-01, -1.15958904e-01,\n",
       "        9.78281084e-01, -1.01096514e-01, -6.32667339e-01,  5.53816340e-01,\n",
       "        6.02070126e-02, -1.64634727e+00, -4.12912586e-01, -6.60152837e-01,\n",
       "        1.38495500e-01,  5.95548987e-01,  2.00613998e+00,  2.02192534e-01,\n",
       "        9.05865798e-01,  1.40028072e+00, -1.77223273e+00, -1.46624244e+00,\n",
       "        1.76341223e-02,  2.39720895e+00, -1.57143991e+00, -3.46368352e-01,\n",
       "       -1.04504382e+00,  9.25733917e-01, -1.52952557e+00, -8.46956734e-01,\n",
       "        2.37160215e-01, -1.02497968e+00, -9.45388741e-01,  1.35192890e+00,\n",
       "        3.92383535e-02,  2.29654860e-01, -4.96185444e-01,  1.09808797e+00,\n",
       "        2.20875900e+00, -1.05581467e+00,  2.09611540e+00,  2.25099236e-01,\n",
       "       -1.00430536e+00,  9.31562058e-01, -1.35848625e+00,  3.71738882e-01,\n",
       "       -2.23781484e-01,  2.54380191e-01, -1.46766478e-01,  1.89950304e-01,\n",
       "        1.46020936e+00,  6.80506932e-01, -2.16975493e-01,  1.26604190e-01,\n",
       "        6.77053699e-01, -1.18159823e+00,  1.14919661e-01, -4.86948169e-01,\n",
       "        1.17816725e+00, -3.73538954e-01,  8.59726900e-01, -6.58761117e-02,\n",
       "        1.95178768e+00,  8.53893562e-01, -1.26572006e-02,  1.51937908e+00,\n",
       "        1.60834607e-01, -8.10448639e-01, -2.92490151e-01,  7.46866795e-01,\n",
       "        1.42043493e+00, -6.92173381e-01, -1.05883150e+00,  1.03198921e+00,\n",
       "       -1.31789636e-01, -7.95753481e-01, -2.10699908e-01, -1.28665439e+00,\n",
       "        1.03089865e+00,  3.86693520e-01, -5.32907549e-01,  1.31081755e+00,\n",
       "        2.91357781e-02,  1.59082982e+00, -6.78705078e-01, -5.52282274e-01,\n",
       "        5.20172206e-01, -3.31455160e-01,  1.68182200e+00,  2.10146931e+00,\n",
       "        1.19730804e+00, -6.81210534e-01,  2.97188709e-01, -5.52464413e-01,\n",
       "        1.33361176e+00,  2.22097572e+00,  1.88272131e+00, -8.99041841e-01,\n",
       "        2.57618825e-01,  1.57970570e-01, -8.70093549e-01, -2.59695370e+00,\n",
       "        6.34909930e-01,  7.35956503e-01, -1.04062835e+00, -1.34795172e+00,\n",
       "        2.46444097e-01, -6.65644982e-01, -2.72042104e-03, -8.92070021e-03,\n",
       "       -6.47763414e-01,  9.70609881e-01,  9.85911454e-02,  9.83645456e-01,\n",
       "       -8.87719125e-01, -1.27136459e-01,  5.47928350e-01,  1.61269191e-01,\n",
       "       -4.96307272e-01, -9.59713473e-01,  7.51555568e-01, -7.89015366e-01,\n",
       "        1.15570892e-01,  1.15082049e+00, -4.12144415e-01, -7.11466497e-01,\n",
       "        6.59941967e-01,  8.37931398e-01,  1.10941489e+00,  1.35056514e+00,\n",
       "        1.00998666e+00,  9.72750919e-01,  1.80587414e-01,  1.44019204e+00,\n",
       "        1.23631914e+00,  1.84015943e+00,  1.32087140e-01,  1.67487413e+00,\n",
       "       -3.26087783e-02, -2.96137030e+00,  1.52912973e+00, -1.12416447e+00,\n",
       "       -3.13521368e-01, -1.00358608e+00, -5.73915815e-01, -1.92189224e-01,\n",
       "        8.69670202e-01,  1.93508457e-01, -6.39794582e-01, -1.60151560e+00,\n",
       "       -1.58580978e+00,  4.69748997e-01,  6.67247056e-01,  3.65586719e-01,\n",
       "       -8.89550132e-01, -1.33433401e+00, -9.69495361e-01, -1.06476759e+00,\n",
       "       -6.80154257e-01, -8.04022531e-01,  1.63263355e+00,  9.00860461e-01,\n",
       "        1.65639376e+00,  9.97000757e-01, -1.25725898e+00,  3.00340368e-01,\n",
       "       -2.32754533e+00,  9.23599622e-01,  9.88821481e-01, -8.68450895e-01,\n",
       "        2.87369124e-01,  4.94390169e-01, -1.76371911e+00,  3.48771865e-01,\n",
       "       -3.32595395e-01,  1.69824554e+00,  1.71197448e+00, -6.83863499e-01,\n",
       "        7.20684992e-01,  1.45873764e+00, -6.29167311e-01, -3.14600900e+00,\n",
       "       -1.55940868e+00,  2.83769782e-01,  1.67539285e+00, -1.15671381e+00,\n",
       "       -7.35643764e-01,  4.42295631e-01,  1.56502535e+00, -2.61144061e-01,\n",
       "        2.17300444e-01,  5.30685760e-01,  1.61732723e-01, -8.88993171e-01,\n",
       "        1.72001660e+00,  3.70561671e-01,  2.50454507e-01,  1.56240608e+00,\n",
       "       -1.76870865e+00, -1.67172981e-01,  8.92092619e-01, -8.48047377e-01,\n",
       "        7.95064966e-02, -8.06520077e-01, -7.23666439e-01, -4.48711556e-01,\n",
       "       -9.68928754e-01,  1.34968317e+00,  7.24548298e-01, -1.25783020e+00,\n",
       "        8.30099268e-01, -1.38535452e+00,  7.94161721e-01,  6.42994740e-01,\n",
       "       -1.22645084e-02, -2.58221090e-01,  1.16256532e+00, -4.70930886e-01,\n",
       "       -4.50270570e-02,  6.12143269e-01,  1.68422556e-01, -9.62015034e-01,\n",
       "       -1.04418740e+00, -7.23636333e-01, -8.51288752e-01,  9.54528603e-01,\n",
       "        1.33852466e+00, -1.01189230e+00, -1.36089149e+00,  1.38497104e+00,\n",
       "       -1.01582753e+00,  1.52250684e+00,  1.64898308e+00,  5.84015606e-01,\n",
       "       -1.90085282e-01,  4.29000962e-01, -8.65903968e-01,  8.47689657e-01,\n",
       "       -1.02195887e+00, -1.08229936e+00,  4.13735266e+00,  8.05296537e-01,\n",
       "       -8.86009134e-01,  6.98859376e-01, -1.37572835e+00,  1.66705216e+00,\n",
       "       -1.16496221e-01,  1.37405396e+00, -4.94309311e-01, -5.88430421e-01,\n",
       "       -1.66345929e+00,  2.99078649e-01, -5.68030635e-01,  3.52114555e-01,\n",
       "        1.98403888e+00, -5.68027852e-01,  9.24978566e-01,  1.24568172e+00,\n",
       "        8.38591350e-01,  1.63018304e+00, -9.78089265e-01,  2.53216097e-01,\n",
       "        2.00611324e+00, -1.22640433e+00, -4.22166523e-01,  6.69675859e-01,\n",
       "        5.61235593e-01, -7.71961778e-01,  2.02174891e+00,  3.72819223e-01,\n",
       "        1.39733910e-01,  5.17995860e-01, -3.02722755e-01,  1.06837113e-01,\n",
       "        4.47139327e-01, -2.09097873e+00,  2.81540274e-01, -4.88454044e-01,\n",
       "        2.38262597e+00,  2.08400148e-02, -1.32436551e-01, -1.75833102e+00,\n",
       "       -4.77786060e-02, -4.79834497e-01, -1.11237629e+00,  9.28473459e-01,\n",
       "       -1.74480053e-01,  1.16924106e+00,  6.69255622e-02, -1.27274004e+00,\n",
       "        1.05711237e-01, -2.32432350e-01,  2.95189774e-01, -1.19950596e-01,\n",
       "       -3.40028017e-02, -5.59722188e-02, -1.69472225e-01, -4.62513953e-01,\n",
       "        1.09878690e+00,  8.94456327e-01, -1.09783627e+00, -1.51325624e+00,\n",
       "       -2.61832948e-01, -8.66403929e-01,  1.47237911e+00, -1.06402509e+00,\n",
       "       -1.25028535e-01,  1.05050126e+00, -6.56579951e-01,  7.02616148e-01,\n",
       "       -1.53794115e-02,  8.70033469e-01, -1.01606449e+00, -6.24742750e-01,\n",
       "       -1.50734392e+00,  8.05861972e-01, -2.63113211e-01,  8.90430387e-01,\n",
       "        5.50810298e-01, -5.36410792e-01, -8.74392668e-01,  1.87083540e-02,\n",
       "        2.04353172e-01,  3.41330222e-02,  6.68275161e-01, -1.94319580e+00,\n",
       "        9.16335595e-01,  1.34578346e+00, -2.92877050e-01, -1.81019744e+00,\n",
       "        1.19716858e+00, -3.35227010e-01, -1.36374375e+00, -2.54137096e-01,\n",
       "       -8.93981837e-01, -3.89205558e-01, -4.99285996e-01,  7.38763474e-01,\n",
       "       -2.35154668e-01, -3.89727964e-01, -6.21130683e-02, -1.31023287e+00,\n",
       "       -1.00683327e+00, -4.09255600e-01,  6.65923539e-01,  1.19806215e+00,\n",
       "        1.31042596e+00,  9.73341581e-01,  6.55226823e-01, -7.16753409e-03,\n",
       "       -6.67716560e-01,  1.67101099e-03,  3.98294837e-01, -9.54346759e-02,\n",
       "        1.87259659e-01,  4.28914747e-01, -1.32464717e+00, -1.76158367e-02,\n",
       "       -1.82942458e+00, -1.19639899e+00,  9.90220975e-01,  1.02007379e+00,\n",
       "        5.66387176e-01, -1.43535550e-01,  1.73518734e+00,  1.12413581e+00,\n",
       "       -1.77668997e+00, -1.77019247e-01,  7.45365620e-01,  6.00567212e-01,\n",
       "        9.77485286e-02, -1.01796995e+00, -7.33391327e-02, -3.30700575e-01,\n",
       "       -1.10890633e+00, -1.59268687e+00,  7.81446775e-01, -7.32934108e-01,\n",
       "        1.72310321e+00, -1.52336078e+00, -6.77141806e-01,  5.82732870e-01,\n",
       "        1.47829676e+00,  1.21165941e-01, -2.24878591e+00, -2.39275074e-01,\n",
       "       -2.23939839e+00, -1.01782225e+00,  6.11994929e-01, -9.71640360e-01,\n",
       "       -5.50788418e-01, -3.57684546e-01, -2.04404090e-01,  4.38962632e-01,\n",
       "       -6.78627128e-01, -2.16236923e-01,  4.40840063e-01, -1.58647258e-03,\n",
       "       -1.05681948e+00, -1.23582750e-01, -6.81399762e-01, -1.52503112e+00,\n",
       "       -2.57504630e+00, -2.24887303e+00,  1.97404751e-01, -2.24012208e+00,\n",
       "       -1.17109704e+00, -1.54386922e-01, -6.18753878e-01,  1.00267989e+00,\n",
       "       -1.80227614e-01,  1.66250538e+00,  6.60058253e-01,  9.58453795e-01,\n",
       "        1.73574686e+00,  3.79962950e-01,  1.24937559e+00,  1.05074311e+00,\n",
       "        5.48392454e-01,  9.40268866e-01, -5.42231219e-01,  5.53101099e-01,\n",
       "       -4.99202719e-02, -3.54739955e-01,  4.33529352e-01, -6.04059687e-01,\n",
       "        7.58751880e-01, -5.30757130e-01,  1.17125266e+00,  1.93269932e+00,\n",
       "       -1.44783724e-01, -1.61311456e+00,  9.00606257e-01,  4.18614140e-01,\n",
       "       -1.12149659e+00,  1.43634400e+00, -5.94002404e-01, -6.70248466e-01,\n",
       "       -2.39923878e-01, -7.83984226e-02,  3.85631046e-01, -8.29224064e-02,\n",
       "        2.00335026e-01,  8.89248183e-01,  6.41924206e-01, -1.53836050e-01,\n",
       "       -2.22467989e-01,  5.12093273e-02,  5.62004415e-01, -2.73172001e-01,\n",
       "       -5.70319548e-01, -7.27528418e-01, -1.59461029e+00,  1.75261569e+00,\n",
       "        2.24357893e-01, -7.24559493e-01, -2.56650930e-02,  1.32230512e+00,\n",
       "       -7.79544176e-01,  9.64093008e-01, -1.32577810e+00, -1.40560039e+00,\n",
       "       -9.08845444e-01, -4.16187268e-01, -1.31974525e-01,  2.46885504e-01,\n",
       "       -1.62627972e-01,  6.45168519e-01, -7.73029610e-01,  3.32050433e-01,\n",
       "        3.89029732e-02, -1.03944456e+00,  1.73894235e+00, -8.49721922e-01,\n",
       "        2.60894958e+00, -1.69182860e+00, -9.55635902e-01, -2.66558228e-01,\n",
       "       -5.41066058e-01,  2.29433575e-01, -1.11443401e-02,  3.59068363e-01,\n",
       "        7.60388731e-01,  2.91543139e-01, -8.87836418e-01,  5.27356412e-01,\n",
       "        1.74408643e+00, -1.84184498e-01, -1.43436495e-01, -2.38903915e-01,\n",
       "        5.56818961e-01, -1.04562869e+00, -5.39925081e-02,  1.09827152e+00,\n",
       "       -8.64653746e-01, -2.51890170e-01,  4.92236103e-01, -6.30221145e-02,\n",
       "        5.31146161e-01, -1.80952434e+00,  4.07926332e-01,  1.39586844e-01,\n",
       "        2.66447660e-01, -5.60804879e-01, -1.12317878e+00,  6.42098458e-01,\n",
       "        8.80286307e-01,  2.05946383e+00, -1.51158049e-01,  4.46913937e-01,\n",
       "        7.00158340e-01, -4.20987086e-01,  2.19829347e+00, -4.77883929e-01,\n",
       "       -1.63153105e+00, -1.07919068e+00,  4.23054940e-01, -4.77215745e-02,\n",
       "       -5.33155762e-01,  1.37702998e+00,  1.67532173e+00,  1.83263699e+00,\n",
       "        5.73151044e-01,  6.66787160e-03,  3.63737671e-01, -6.59535459e-01,\n",
       "       -4.49019980e-01, -1.98624028e-02, -2.04401381e-01, -2.83753855e-01,\n",
       "       -1.49580224e+00,  2.70610893e-01,  1.01051572e+00, -1.32431372e-01,\n",
       "       -6.50067889e-01,  7.81844359e-02,  9.30622225e-02, -3.61364084e-01,\n",
       "       -9.41434845e-01, -7.21253370e-01,  1.43051814e+00, -2.63840296e-01,\n",
       "       -9.55880053e-02, -5.58439571e-01, -1.09758191e+00,  1.59367274e-01,\n",
       "       -6.81103241e-01,  5.95369045e-01, -1.87432503e-01,  6.04158099e-01,\n",
       "        4.38383163e-01, -6.23722859e-01, -6.35401047e-01, -1.49921801e+00,\n",
       "        1.50908007e-01,  1.82827838e+00,  4.55102566e-01,  1.14531396e+00,\n",
       "        1.74383779e+00, -7.22478861e-01,  4.55957605e-01,  7.11517500e-01,\n",
       "        4.24033448e-01,  8.08680286e-01, -1.36463039e-02,  2.20623424e-01,\n",
       "       -2.01353406e+00, -9.71615413e-02,  2.67203504e-01, -1.31194727e+00,\n",
       "        7.39434067e-01,  1.98480490e+00,  1.00318386e+00, -2.85703962e+00,\n",
       "       -2.95950756e-01,  9.29969522e-02, -8.33163434e-01, -6.92018745e-01,\n",
       "       -7.65879072e-03,  3.26890787e-02,  4.89182222e-01,  2.39633464e+00,\n",
       "        1.41850239e+00, -2.41384082e+00, -8.07732754e-01,  1.17908081e+00,\n",
       "        4.84653417e-01, -3.05007401e-01,  9.79215261e-01,  4.80708915e-01,\n",
       "       -2.18841913e-01, -7.76235876e-01,  1.09222570e+00,  7.80655204e-01,\n",
       "        5.72441013e-01,  1.18411822e+00,  4.26665954e-01,  1.16932037e-01,\n",
       "       -1.19651581e+00,  3.47075241e-01,  1.57517091e+00, -8.72855606e-01,\n",
       "        1.52557288e+00, -5.96170703e-01,  3.32022281e-01, -3.02970225e-01,\n",
       "       -6.54694218e-01, -1.97064217e-01,  3.22914943e-01,  3.19199533e-01,\n",
       "        2.08942742e+00,  4.83406379e-02,  2.55249009e+00,  7.17710379e-01,\n",
       "       -2.22876708e-01, -1.45978696e+00, -1.21902492e+00, -3.03468256e+00,\n",
       "        5.46546543e-01, -1.68182926e+00,  1.74907190e-02, -6.85754489e-01,\n",
       "       -1.40239149e+00,  1.28651024e+00, -2.76597397e-01,  5.60962884e-01,\n",
       "       -1.62402993e+00,  1.60336392e+00, -1.80704704e+00,  7.46952583e-01,\n",
       "       -4.07793110e-01,  8.44825793e-02,  1.40461503e+00,  4.86312064e-01,\n",
       "        1.04010554e+00, -2.36646227e-01, -6.58299912e-01,  1.09330328e+00,\n",
       "       -1.01110744e+00,  6.51130612e-01, -1.58343494e+00,  1.86699269e+00,\n",
       "        1.61660535e+00, -4.02022990e-01,  3.26086502e-01, -1.18845107e+00,\n",
       "       -1.42898891e+00, -1.77804749e+00, -2.08709633e-01,  4.91878792e-01,\n",
       "       -4.91094263e-01, -3.74891388e-01,  1.03962337e+00,  4.86128178e-01,\n",
       "       -9.90241712e-01, -6.72351730e-01, -9.05204701e-01, -1.08042808e+00,\n",
       "        5.74291778e-02,  1.11031964e+00, -6.43921319e-01, -1.59079159e+00,\n",
       "        6.52352778e-01,  5.84131674e-02,  1.58063253e-01, -1.69687940e-01,\n",
       "        1.44918124e+00, -1.80224770e+00,  7.48772487e-01, -1.60313901e+00,\n",
       "        7.38747773e-01,  2.76623521e-01, -2.43274601e+00, -1.63290375e-01,\n",
       "       -4.20396069e-01,  8.21260301e-01,  3.44693899e-01, -8.41847703e-01,\n",
       "        5.24466558e-01, -7.21947863e-01, -9.93567393e-01, -1.16378389e+00,\n",
       "        6.87122225e-02, -1.36128166e+00,  1.83589409e-01,  7.30140429e-01,\n",
       "       -2.22276795e-01,  7.55111936e-01, -1.14308526e+00, -7.63918024e-01,\n",
       "        9.44555765e-01,  2.41864640e-01,  1.74915366e+00,  4.50341683e-01])"
      ]
     },
     "execution_count": 65,
     "metadata": {},
     "output_type": "execute_result"
    }
   ],
   "source": [
    "np.random.normal(0,1,1000)"
   ]
  },
  {
   "cell_type": "markdown",
   "metadata": {},
   "source": [
    "## Question 11\n",
    "\n",
    "Generate binomial distribution data for fair coin flipping of size 100. Assume `0` for head and `1` for tail.\n",
    "\n",
    "[ **Hint:** For fair coin flip `p=0.5` ]"
   ]
  },
  {
   "cell_type": "markdown",
   "metadata": {},
   "source": [
    "#### Binomial Distribution"
   ]
  },
  {
   "cell_type": "markdown",
   "metadata": {},
   "source": [
    "It is defined by 2 parameters: the probability of success and the number of trails. It tells about how likely it is possible to get a given number of successes in n trails."
   ]
  },
  {
   "cell_type": "code",
   "execution_count": 63,
   "metadata": {},
   "outputs": [
    {
     "data": {
      "text/plain": [
       "array([7.88860905e-31, 7.88860905e-29, 3.90486148e-27, 1.27558808e-25,\n",
       "       3.09330110e-24, 5.93913812e-23, 9.40363535e-22, 1.26277389e-20,\n",
       "       1.46797465e-19, 1.50059631e-18, 1.36554264e-17, 1.11726216e-16,\n",
       "       8.28636101e-16, 5.60922899e-15, 3.48573516e-14, 1.99848816e-13,\n",
       "       1.06169683e-12, 5.24603142e-12, 2.41900338e-11, 1.04399093e-10,\n",
       "       4.22816327e-10, 1.61072886e-09, 5.78398092e-09, 1.96152396e-08,\n",
       "       6.29322272e-08, 1.91313971e-07, 5.51867223e-07, 1.51252498e-06,\n",
       "       3.94336870e-06, 9.79043264e-06, 2.31706906e-05, 5.23209142e-05,\n",
       "       1.12816971e-04, 2.32471335e-04, 4.58105277e-04, 8.63855666e-04,\n",
       "       1.55973940e-03, 2.69792760e-03, 4.47287998e-03, 7.11073227e-03,\n",
       "       1.08438667e-02, 1.58690732e-02, 2.22922695e-02, 3.00686426e-02,\n",
       "       3.89525598e-02, 4.84742966e-02, 5.79583981e-02, 6.65905000e-02,\n",
       "       7.35270104e-02, 7.80286641e-02, 7.95892374e-02, 7.80286641e-02,\n",
       "       7.35270104e-02, 6.65905000e-02, 5.79583981e-02, 4.84742966e-02,\n",
       "       3.89525598e-02, 3.00686426e-02, 2.22922695e-02, 1.58690732e-02,\n",
       "       1.08438667e-02, 7.11073227e-03, 4.47287998e-03, 2.69792760e-03,\n",
       "       1.55973940e-03, 8.63855666e-04, 4.58105277e-04, 2.32471335e-04,\n",
       "       1.12816971e-04, 5.23209142e-05, 2.31706906e-05, 9.79043264e-06,\n",
       "       3.94336870e-06, 1.51252498e-06, 5.51867223e-07, 1.91313971e-07,\n",
       "       6.29322272e-08, 1.96152396e-08, 5.78398092e-09, 1.61072886e-09,\n",
       "       4.22816327e-10, 1.04399093e-10, 2.41900338e-11, 5.24603142e-12,\n",
       "       1.06169683e-12, 1.99848816e-13, 3.48573516e-14, 5.60922899e-15,\n",
       "       8.28636101e-16, 1.11726216e-16, 1.36554264e-17, 1.50059631e-18,\n",
       "       1.46797465e-19, 1.26277389e-20, 9.40363535e-22, 5.93913812e-23,\n",
       "       3.09330110e-24, 1.27558808e-25, 3.90486148e-27, 7.88860905e-29])"
      ]
     },
     "execution_count": 63,
     "metadata": {},
     "output_type": "execute_result"
    }
   ],
   "source": [
    "p=0.5\n",
    "k=np.arange(0,100)\n",
    "n=100\n",
    "binomial = stats.binom.pmf(k,n,p)\n",
    "binomial"
   ]
  },
  {
   "cell_type": "markdown",
   "metadata": {},
   "source": [
    "#### Visualizing Poisson Distribution"
   ]
  },
  {
   "cell_type": "markdown",
   "metadata": {},
   "source": [
    "It models the probability of seeing certain number of successes within a time interval."
   ]
  },
  {
   "cell_type": "code",
   "execution_count": 64,
   "metadata": {},
   "outputs": [
    {
     "data": {
      "image/png": "[encoded data removed]",
      "text/plain": [
       "<Figure size 432x288 with 1 Axes>"
      ]
     },
     "metadata": {},
     "output_type": "display_data"
    }
   ],
   "source": [
    "poisson_data = stats.poisson.rvs(size=100,mu=10)\n",
    "\n",
    "pd.DataFrame(poisson_data).hist()\n",
    "\n",
    "plt.show()"
   ]
  },
  {
   "cell_type": "code",
   "execution_count": null,
   "metadata": {},
   "outputs": [],
   "source": []
  }
 ],
 "metadata": {
  "kernelspec": {
   "display_name": "Python 3",
   "language": "python",
   "name": "python3"
  },
  "language_info": {
   "codemirror_mode": {
    "name": "ipython",
    "version": 3
   },
   "file_extension": ".py",
   "mimetype": "text/x-python",
   "name": "python",
   "nbconvert_exporter": "python",
   "pygments_lexer": "ipython3",
   "version": "3.6.5"
  }
 },
 "nbformat": 4,
 "nbformat_minor": 2
}
