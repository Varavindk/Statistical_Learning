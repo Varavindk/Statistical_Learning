{
 "cells": [
  {
   "cell_type": "markdown",
   "metadata": {},
   "source": [
    "## Lab Brief - Statistical Learning with Python"
   ]
  },
  {
   "cell_type": "markdown",
   "metadata": {},
   "source": [
    "### Part-1"
   ]
  },
  {
   "cell_type": "markdown",
   "metadata": {},
   "source": [
    "## Measures of Data"
   ]
  },
  {
   "cell_type": "markdown",
   "metadata": {},
   "source": [
    "Descriptive Statistcs are measures that summarize important features of data. Producing these descriptive statistics is a common first step to take after cleaning and preparing a dataset for further analysis. Examples are like calculating Mean or Median. In this lab, we will be looking into some of these functions and explore several new ones."
   ]
  },
  {
   "cell_type": "markdown",
   "metadata": {},
   "source": [
    "#### Measures of Central Tendency"
   ]
  },
  {
   "cell_type": "markdown",
   "metadata": {},
   "source": [
    "Whenever you measure things of the same kind, a fairly large number of such measurements will tend to cluster around the middle value. Such a value is called a measure of \"Central Tendency\". The other terms that are used synonymously are \"Measures of Location\", or \"Statistical Averages\". "
   ]
  },
  {
   "cell_type": "code",
   "execution_count": 2,
   "metadata": {},
   "outputs": [],
   "source": [
    "import numpy as np\n",
    "import pandas as pd\n",
    "import matplotlib.pyplot as plt\n",
    "\n",
    "mtcars = pd.read_csv('mtcars.csv')"
   ]
  },
  {
   "cell_type": "markdown",
   "metadata": {},
   "source": [
    "##### Using the mtcars dataset.\n",
    "\n",
    "For the below set of questions, we will be using the cars data from [Motor Trend Car Road Tests](http://stat.ethz.ch/R-manual/R-devel/library/datasets/html/mtcars.html)\n",
    "\n",
    "The data was extracted from the 1974 Motor Trend US magazine, and comprises fuel consumption and 10 aspects of automobile design and performance for 32 automobiles (1973–74 models). \n",
    "\n",
    "\n",
    "Details :\n",
    "    \n",
    "A data frame with 32 observations on 11 (numeric) variables.\n",
    "\n",
    "[, 1] \tmpg \tMiles/(US) gallon\n",
    "\n",
    "[, 2] \tcyl \tNumber of cylinders\n",
    "\n",
    "[, 3] \tdisp \tDisplacement (cu.in.)\n",
    "\n",
    "[, 4] \thp \tGross horsepower\n",
    "\n",
    "[, 5] \tdrat \tRear axle ratio\n",
    "\n",
    "[, 6] \twt \tWeight (1000 lbs)\n",
    "\n",
    "[, 7] \tqsec \t1/4 mile time\n",
    "\n",
    "[, 8] \tvs \tEngine (0 = V-shaped, 1 = straight)\n",
    "\n",
    "[, 9] \tam \tTransmission (0 = automatic, 1 = manual)\n",
    "\n",
    "[,10] \tgear \tNumber of forward gears\n",
    "\n",
    "[,11] \tcarb \tNumber of carburetors "
   ]
  },
  {
   "cell_type": "markdown",
   "metadata": {},
   "source": [
    "#### Explore the data - Setting the index"
   ]
  },
  {
   "cell_type": "code",
   "execution_count": 3,
   "metadata": {},
   "outputs": [
    {
     "data": {
      "text/html": [
       "<div>\n",
       "<style scoped>\n",
       "    .dataframe tbody tr th:only-of-type {\n",
       "        vertical-align: middle;\n",
       "    }\n",
       "\n",
       "    .dataframe tbody tr th {\n",
       "        vertical-align: top;\n",
       "    }\n",
       "\n",
       "    .dataframe thead th {\n",
       "        text-align: right;\n",
       "    }\n",
       "</style>\n",
       "<table border=\"1\" class=\"dataframe\">\n",
       "  <thead>\n",
       "    <tr style=\"text-align: right;\">\n",
       "      <th></th>\n",
       "      <th>name</th>\n",
       "      <th>mpg</th>\n",
       "      <th>cyl</th>\n",
       "      <th>disp</th>\n",
       "      <th>hp</th>\n",
       "      <th>drat</th>\n",
       "      <th>wt</th>\n",
       "      <th>qsec</th>\n",
       "      <th>vs</th>\n",
       "      <th>am</th>\n",
       "      <th>gear</th>\n",
       "      <th>carb</th>\n",
       "    </tr>\n",
       "    <tr>\n",
       "      <th>name</th>\n",
       "      <th></th>\n",
       "      <th></th>\n",
       "      <th></th>\n",
       "      <th></th>\n",
       "      <th></th>\n",
       "      <th></th>\n",
       "      <th></th>\n",
       "      <th></th>\n",
       "      <th></th>\n",
       "      <th></th>\n",
       "      <th></th>\n",
       "      <th></th>\n",
       "    </tr>\n",
       "  </thead>\n",
       "  <tbody>\n",
       "    <tr>\n",
       "      <th>Mazda RX4</th>\n",
       "      <td>Mazda RX4</td>\n",
       "      <td>21.0</td>\n",
       "      <td>6</td>\n",
       "      <td>160.0</td>\n",
       "      <td>110</td>\n",
       "      <td>3.90</td>\n",
       "      <td>2.620</td>\n",
       "      <td>16.46</td>\n",
       "      <td>0</td>\n",
       "      <td>1</td>\n",
       "      <td>4</td>\n",
       "      <td>4</td>\n",
       "    </tr>\n",
       "    <tr>\n",
       "      <th>Mazda RX4 Wag</th>\n",
       "      <td>Mazda RX4 Wag</td>\n",
       "      <td>21.0</td>\n",
       "      <td>6</td>\n",
       "      <td>160.0</td>\n",
       "      <td>110</td>\n",
       "      <td>3.90</td>\n",
       "      <td>2.875</td>\n",
       "      <td>17.02</td>\n",
       "      <td>0</td>\n",
       "      <td>1</td>\n",
       "      <td>4</td>\n",
       "      <td>4</td>\n",
       "    </tr>\n",
       "    <tr>\n",
       "      <th>Datsun 710</th>\n",
       "      <td>Datsun 710</td>\n",
       "      <td>22.8</td>\n",
       "      <td>4</td>\n",
       "      <td>108.0</td>\n",
       "      <td>93</td>\n",
       "      <td>3.85</td>\n",
       "      <td>2.320</td>\n",
       "      <td>18.61</td>\n",
       "      <td>1</td>\n",
       "      <td>1</td>\n",
       "      <td>4</td>\n",
       "      <td>1</td>\n",
       "    </tr>\n",
       "    <tr>\n",
       "      <th>Hornet 4 Drive</th>\n",
       "      <td>Hornet 4 Drive</td>\n",
       "      <td>21.4</td>\n",
       "      <td>6</td>\n",
       "      <td>258.0</td>\n",
       "      <td>110</td>\n",
       "      <td>3.08</td>\n",
       "      <td>3.215</td>\n",
       "      <td>19.44</td>\n",
       "      <td>1</td>\n",
       "      <td>0</td>\n",
       "      <td>3</td>\n",
       "      <td>1</td>\n",
       "    </tr>\n",
       "    <tr>\n",
       "      <th>Hornet Sportabout</th>\n",
       "      <td>Hornet Sportabout</td>\n",
       "      <td>18.7</td>\n",
       "      <td>8</td>\n",
       "      <td>360.0</td>\n",
       "      <td>175</td>\n",
       "      <td>3.15</td>\n",
       "      <td>3.440</td>\n",
       "      <td>17.02</td>\n",
       "      <td>0</td>\n",
       "      <td>0</td>\n",
       "      <td>3</td>\n",
       "      <td>2</td>\n",
       "    </tr>\n",
       "  </tbody>\n",
       "</table>\n",
       "</div>"
      ],
      "text/plain": [
       "                                name   mpg  cyl   disp   hp  drat     wt  \\\n",
       "name                                                                       \n",
       "Mazda RX4                  Mazda RX4  21.0    6  160.0  110  3.90  2.620   \n",
       "Mazda RX4 Wag          Mazda RX4 Wag  21.0    6  160.0  110  3.90  2.875   \n",
       "Datsun 710                Datsun 710  22.8    4  108.0   93  3.85  2.320   \n",
       "Hornet 4 Drive        Hornet 4 Drive  21.4    6  258.0  110  3.08  3.215   \n",
       "Hornet Sportabout  Hornet Sportabout  18.7    8  360.0  175  3.15  3.440   \n",
       "\n",
       "                    qsec  vs  am  gear  carb  \n",
       "name                                          \n",
       "Mazda RX4          16.46   0   1     4     4  \n",
       "Mazda RX4 Wag      17.02   0   1     4     4  \n",
       "Datsun 710         18.61   1   1     4     1  \n",
       "Hornet 4 Drive     19.44   1   0     3     1  \n",
       "Hornet Sportabout  17.02   0   0     3     2  "
      ]
     },
     "execution_count": 3,
     "metadata": {},
     "output_type": "execute_result"
    }
   ],
   "source": [
    "mtcars.index = mtcars[\"name\"]\n",
    "mtcars.head()\n",
    "# mtcars.mean() #By default this will give the mean of each column"
   ]
  },
  {
   "cell_type": "markdown",
   "metadata": {},
   "source": [
    "### Question 1\n",
    "\n",
    "What is the first car name given in mtcars?\n",
    "\n",
    "** Make use of index which has been set previously **\n",
    "\n",
    "**Hint**: Use .loc function\n"
   ]
  },
  {
   "cell_type": "code",
   "execution_count": 10,
   "metadata": {
    "scrolled": true
   },
   "outputs": [
    {
     "data": {
      "text/plain": [
       "'Mazda RX4'"
      ]
     },
     "execution_count": 10,
     "metadata": {},
     "output_type": "execute_result"
    }
   ],
   "source": [
    "mtcars.index[0]"
   ]
  },
  {
   "cell_type": "markdown",
   "metadata": {},
   "source": [
    "### Question 2\n",
    "What is the highest difference between the hp and cyl?\n",
    "\n",
    "**Hint:** You can use **max()** function to find the difference"
   ]
  },
  {
   "cell_type": "code",
   "execution_count": 61,
   "metadata": {},
   "outputs": [
    {
     "data": {
      "text/plain": [
       "327"
      ]
     },
     "execution_count": 61,
     "metadata": {},
     "output_type": "execute_result"
    }
   ],
   "source": [
    "(mtcars['hp']- mtcars['cyl']).max()"
   ]
  },
  {
   "cell_type": "markdown",
   "metadata": {},
   "source": [
    "### Question 3\n",
    "What are the cars having highest weight(wt) and lowest weight(wt)?\n",
    "\n",
    "**Hint:** Use idxmax() and idxmin() to locate the row\n",
    "\n",
    "Use **.iloc** function to print the  row\n",
    "\n",
    "**Note:** Both idxmax and idxmin belong to pandas"
   ]
  },
  {
   "cell_type": "code",
   "execution_count": 35,
   "metadata": {},
   "outputs": [
    {
     "data": {
      "text/plain": [
       "'Lincoln Continental'"
      ]
     },
     "execution_count": 35,
     "metadata": {},
     "output_type": "execute_result"
    }
   ],
   "source": [
    "mtcars['wt'].idxmax()\n"
   ]
  },
  {
   "cell_type": "code",
   "execution_count": 40,
   "metadata": {},
   "outputs": [
    {
     "data": {
      "text/plain": [
       "'Lotus Europa'"
      ]
     },
     "execution_count": 40,
     "metadata": {},
     "output_type": "execute_result"
    }
   ],
   "source": [
    "mtcars['wt'].idxmin()"
   ]
  },
  {
   "cell_type": "markdown",
   "metadata": {},
   "source": [
    "### Question 4\n",
    "\n",
    "Find the mean of each row and each column in the given dataset.\n",
    "\n",
    "**Hint:** Use .mean() function. To operate on rows use **axis=0**, on columns use **axis=1**"
   ]
  },
  {
   "cell_type": "code",
   "execution_count": 45,
   "metadata": {},
   "outputs": [
    {
     "data": {
      "text/plain": [
       "mpg      20.090625\n",
       "cyl       6.187500\n",
       "disp    230.721875\n",
       "hp      146.687500\n",
       "drat      3.596563\n",
       "wt        3.217250\n",
       "qsec     17.848750\n",
       "vs        0.437500\n",
       "am        0.406250\n",
       "gear      3.687500\n",
       "carb      2.812500\n",
       "dtype: float64"
      ]
     },
     "execution_count": 45,
     "metadata": {},
     "output_type": "execute_result"
    }
   ],
   "source": [
    "mtcars.mean(axis=0)"
   ]
  },
  {
   "cell_type": "code",
   "execution_count": 44,
   "metadata": {},
   "outputs": [
    {
     "data": {
      "text/plain": [
       "name\n",
       "Mazda RX4              29.907273\n",
       "Mazda RX4 Wag          29.981364\n",
       "Datsun 710             23.598182\n",
       "Hornet 4 Drive         38.739545\n",
       "Hornet Sportabout      53.664545\n",
       "Valiant                35.049091\n",
       "Duster 360             59.720000\n",
       "Merc 240D              24.634545\n",
       "Merc 230               27.233636\n",
       "Merc 280               31.860000\n",
       "Merc 280C              31.787273\n",
       "Merc 450SE             46.430909\n",
       "Merc 450SL             46.500000\n",
       "Merc 450SLC            46.350000\n",
       "Cadillac Fleetwood     66.232727\n",
       "Lincoln Continental    66.058545\n",
       "Chrysler Imperial      65.972273\n",
       "Fiat 128               19.440909\n",
       "Honda Civic            17.742273\n",
       "Toyota Corolla         18.814091\n",
       "Toyota Corona          24.888636\n",
       "Dodge Challenger       47.240909\n",
       "AMC Javelin            46.007727\n",
       "Camaro Z28             58.752727\n",
       "Pontiac Firebird       57.379545\n",
       "Fiat X1-9              18.928636\n",
       "Porsche 914-2          24.779091\n",
       "Lotus Europa           24.880273\n",
       "Ford Pantera L         60.971818\n",
       "Ferrari Dino           34.508182\n",
       "Maserati Bora          63.155455\n",
       "Volvo 142E             26.262727\n",
       "dtype: float64"
      ]
     },
     "execution_count": 44,
     "metadata": {},
     "output_type": "execute_result"
    }
   ],
   "source": [
    "mtcars.mean(axis=1)"
   ]
  },
  {
   "cell_type": "markdown",
   "metadata": {},
   "source": [
    "### Question 5\n",
    "\n",
    "Plot mpg values of mtcards dataframe using matplotlib.\n",
    "\n",
    "**Hint: Use plt.plot function**"
   ]
  },
  {
   "cell_type": "code",
   "execution_count": 48,
   "metadata": {},
   "outputs": [
    {
     "data": {
      "text/plain": [
       "[<matplotlib.lines.Line2D at 0x1088da978>]"
      ]
     },
     "execution_count": 48,
     "metadata": {},
     "output_type": "execute_result"
    },
    {
     "data": {
      "image/png": "[encoded data removed]",
      "text/plain": [
       "<Figure size 432x288 with 1 Axes>"
      ]
     },
     "metadata": {},
     "output_type": "display_data"
    }
   ],
   "source": [
    "import matplotlib.pyplot as plt\n",
    "plt.plot(mtcars['mpg'])"
   ]
  },
  {
   "cell_type": "markdown",
   "metadata": {},
   "source": [
    "## Part 2"
   ]
  },
  {
   "cell_type": "markdown",
   "metadata": {},
   "source": [
    "## Measures of Dispersion"
   ]
  },
  {
   "cell_type": "markdown",
   "metadata": {},
   "source": [
    "Measures of Dispersion (Spread) are statistics that describe how data varies. Measure of dispersion gives us the sense of how much the data tends to diverge from the central tendency."
   ]
  },
  {
   "cell_type": "markdown",
   "metadata": {},
   "source": [
    "### Question 6\n",
    "\n",
    "What the range of `mpg` in the given dataset?\n",
    "\n",
    "**Hint:** Range = max-min"
   ]
  },
  {
   "cell_type": "code",
   "execution_count": 51,
   "metadata": {},
   "outputs": [
    {
     "data": {
      "text/plain": [
       "23.5"
      ]
     },
     "execution_count": 51,
     "metadata": {},
     "output_type": "execute_result"
    }
   ],
   "source": [
    "Range = mtcars['mpg'].max() - mtcars['mpg'].min()\n",
    "Range"
   ]
  },
  {
   "cell_type": "markdown",
   "metadata": {},
   "source": [
    "### Question 7\n",
    "\n",
    "Calculate the 25th quantile (lower quantile)for `mpg` in the given dataset.\n",
    "\n",
    "**Hint:** Use **.quantile()**"
   ]
  },
  {
   "cell_type": "code",
   "execution_count": 52,
   "metadata": {},
   "outputs": [
    {
     "data": {
      "text/plain": [
       "15.425"
      ]
     },
     "execution_count": 52,
     "metadata": {},
     "output_type": "execute_result"
    }
   ],
   "source": [
    "mtcars['mpg'].quantile(q=0.25)"
   ]
  },
  {
   "cell_type": "markdown",
   "metadata": {},
   "source": [
    "### Question 8\n",
    "\n",
    "Calculate the Inter-Quartile Range(IQR) for `mpg` in the given dataset."
   ]
  },
  {
   "cell_type": "markdown",
   "metadata": {},
   "source": [
    "Interquartile range (IQR) is another common measure of spread. IQR is the distance between the 3rd quartile and the 1st quartile.\n",
    "\n",
    "**Hint:** IQR = Q3 - Q1"
   ]
  },
  {
   "cell_type": "code",
   "execution_count": 53,
   "metadata": {},
   "outputs": [
    {
     "data": {
      "text/plain": [
       "7.375"
      ]
     },
     "execution_count": 53,
     "metadata": {},
     "output_type": "execute_result"
    }
   ],
   "source": [
    "IQR=(mtcars['mpg'].quantile(q=0.75))-(mtcars['mpg'].quantile(q=0.25))\n",
    "IQR"
   ]
  },
  {
   "cell_type": "markdown",
   "metadata": {},
   "source": [
    "### Question 9\n",
    "\n",
    "Calculate the Variance, Standard Deviation and Median Absolute Deviation for `mpg`."
   ]
  },
  {
   "cell_type": "markdown",
   "metadata": {},
   "source": [
    "Variance and Standard Deviation are two other common measure of dispersion.\n",
    "\n",
    "**Hint:** Use .var() and .std()"
   ]
  },
  {
   "cell_type": "markdown",
   "metadata": {},
   "source": [
    "**Hint:** Median Absolute Deviation - alternative measure of spread based on the median. It is the median of the absolute value of the deviations from the median. "
   ]
  },
  {
   "cell_type": "code",
   "execution_count": 54,
   "metadata": {},
   "outputs": [
    {
     "data": {
      "text/plain": [
       "36.32410282258065"
      ]
     },
     "execution_count": 54,
     "metadata": {},
     "output_type": "execute_result"
    }
   ],
   "source": [
    "mtcars['mpg'].var()"
   ]
  },
  {
   "cell_type": "code",
   "execution_count": 55,
   "metadata": {},
   "outputs": [
    {
     "data": {
      "text/plain": [
       "6.026948052089105"
      ]
     },
     "execution_count": 55,
     "metadata": {},
     "output_type": "execute_result"
    }
   ],
   "source": [
    "mtcars['mpg'].std()"
   ]
  },
  {
   "cell_type": "markdown",
   "metadata": {},
   "source": [
    "## Part 3"
   ]
  },
  {
   "cell_type": "markdown",
   "metadata": {},
   "source": [
    "## Probability Distributions"
   ]
  },
  {
   "cell_type": "markdown",
   "metadata": {},
   "source": [
    "The probability distribution describes how a random variable is distributed. It tells us which values a variable is most likely to take on and which values are less likely to take on. "
   ]
  },
  {
   "cell_type": "markdown",
   "metadata": {},
   "source": [
    "Each value in the given range is equally likely to occur. "
   ]
  },
  {
   "cell_type": "code",
   "execution_count": 56,
   "metadata": {},
   "outputs": [],
   "source": [
    "import scipy.stats as stats # Many functions for probability distributions in python are in scipy.stats"
   ]
  },
  {
   "cell_type": "markdown",
   "metadata": {},
   "source": [
    "### Question 10\n",
    "\n",
    "Generate 1000 datapoints with standard normal distribution with mean 0 and standard deviation 1. "
   ]
  },
  {
   "cell_type": "markdown",
   "metadata": {},
   "source": [
    "#### Normal Distribution"
   ]
  },
  {
   "cell_type": "markdown",
   "metadata": {},
   "source": [
    "The normal or Gaussian Distribution is a continuos probability distribution given by a symmetric bell shaped curve. It is defined its center(mean) and spread(std)."
   ]
  },
  {
   "cell_type": "markdown",
   "metadata": {},
   "source": [
    "The bulk of the observations generated from a normal distribution lie near the mean which lies at the center. About 68% of the data lies within 1 std, 95% lies within 2 stds and 99.7% lies within 3 stds.\n",
    "\n",
    "**Hint:** You can use **np.random.normal()** function to generate normal distribution"
   ]
  },
  {
   "cell_type": "code",
   "execution_count": 60,
   "metadata": {},
   "outputs": [
    {
     "data": {
      "text/plain": [
       "array([-1.55274581e+00,  6.16913953e-01,  3.06153764e+00,  2.28398643e+00,\n",
       "        3.61607884e+00,  3.63236443e+00,  7.64201409e+00,  6.22934653e+00,\n",
       "        7.20710042e+00,  7.82434180e+00,  9.87456862e+00,  1.21031248e+01,\n",
       "        1.10508351e+01,  1.38948185e+01,  1.42272658e+01,  1.51969270e+01,\n",
       "        1.54564482e+01,  1.77571880e+01,  1.82141748e+01,  1.93115472e+01,\n",
       "        1.95131971e+01,  2.15287765e+01,  2.27489610e+01,  2.29996212e+01,\n",
       "        2.44584696e+01,  2.42585587e+01,  2.69389683e+01,  2.49661486e+01,\n",
       "        2.74506720e+01,  2.98627971e+01,  2.98887352e+01,  3.12828548e+01,\n",
       "        3.19328550e+01,  3.37596945e+01,  3.42415024e+01,  3.46632365e+01,\n",
       "        3.61531129e+01,  3.53023401e+01,  3.92712154e+01,  4.12894100e+01,\n",
       "        3.95343500e+01,  4.09846418e+01,  4.27626240e+01,  4.29755295e+01,\n",
       "        4.41441238e+01,  4.50727638e+01,  4.67697534e+01,  4.59048281e+01,\n",
       "        4.98937517e+01,  4.66916558e+01,  4.92728758e+01,  4.83609382e+01,\n",
       "        5.22136069e+01,  5.40213883e+01,  5.29340934e+01,  5.69508924e+01,\n",
       "        5.48137533e+01,  5.78529114e+01,  5.88687464e+01,  5.88715095e+01,\n",
       "        6.05118396e+01,  6.14491680e+01,  6.03968083e+01,  6.37733968e+01,\n",
       "        6.49887931e+01,  6.40480770e+01,  6.46175346e+01,  6.64127721e+01,\n",
       "        6.74078182e+01,  7.07169884e+01,  7.03230523e+01,  7.22704119e+01,\n",
       "        7.17209345e+01,  7.29235884e+01,  7.43021369e+01,  7.51173688e+01,\n",
       "        7.57469355e+01,  7.70184373e+01,  7.99590752e+01,  7.84748818e+01,\n",
       "        8.01454786e+01,  8.14513435e+01,  8.23780876e+01,  8.23294073e+01,\n",
       "        8.52515129e+01,  8.71479119e+01,  8.53667161e+01,  8.64447517e+01,\n",
       "        8.83488249e+01,  8.78443070e+01,  9.05154862e+01,  8.92583294e+01,\n",
       "        9.25016014e+01,  9.52740482e+01,  9.39166620e+01,  9.51276436e+01,\n",
       "        9.53193226e+01,  9.72431139e+01,  9.92344627e+01,  9.92417072e+01,\n",
       "        1.00005359e+02,  1.02149805e+02,  1.02786999e+02,  1.03471913e+02,\n",
       "        1.03945777e+02,  1.04646909e+02,  1.06678185e+02,  1.07425186e+02,\n",
       "        1.09933638e+02,  1.09320240e+02,  1.10498906e+02,  1.13239932e+02,\n",
       "        1.09663135e+02,  1.13656317e+02,  1.13707622e+02,  1.15388390e+02,\n",
       "        1.14990731e+02,  1.16551257e+02,  1.17867036e+02,  1.19577657e+02,\n",
       "        1.19676597e+02,  1.20601236e+02,  1.23799187e+02,  1.21825453e+02,\n",
       "        1.23812791e+02,  1.26833727e+02,  1.25690190e+02,  1.27294626e+02,\n",
       "        1.28135587e+02,  1.27996712e+02,  1.32467172e+02,  1.29474473e+02,\n",
       "        1.30578146e+02,  1.32268809e+02,  1.34250265e+02,  1.35602584e+02,\n",
       "        1.38575064e+02,  1.37744188e+02,  1.37652507e+02,  1.37790152e+02,\n",
       "        1.40672198e+02,  1.39796981e+02,  1.42772015e+02,  1.44651877e+02,\n",
       "        1.45692250e+02,  1.45121817e+02,  1.46757994e+02,  1.46296544e+02,\n",
       "        1.47696296e+02,  1.49495243e+02,  1.48822933e+02,  1.49106509e+02,\n",
       "        1.51006467e+02,  1.52773393e+02,  1.53205026e+02,  1.54596886e+02,\n",
       "        1.55706629e+02,  1.56003603e+02,  1.59938448e+02,  1.59723223e+02,\n",
       "        1.60412090e+02,  1.60680967e+02,  1.61655343e+02,  1.63334589e+02,\n",
       "        1.64231286e+02,  1.65954022e+02,  1.66147674e+02,  1.67575104e+02,\n",
       "        1.66972782e+02,  1.68472638e+02,  1.69492120e+02,  1.70212773e+02,\n",
       "        1.69377168e+02,  1.72080866e+02,  1.75256489e+02,  1.75852760e+02,\n",
       "        1.75021563e+02,  1.78460981e+02,  1.77070304e+02,  1.80660936e+02,\n",
       "        1.79925803e+02,  1.80553969e+02,  1.83078043e+02,  1.82626316e+02,\n",
       "        1.86187250e+02,  1.85699027e+02,  1.85891930e+02,  1.86403481e+02,\n",
       "        1.87839086e+02,  1.89432698e+02,  1.89815631e+02,  1.93083046e+02,\n",
       "        1.92737966e+02,  1.93586382e+02,  1.93714937e+02,  1.93602441e+02,\n",
       "        1.95568997e+02,  1.97448886e+02,  1.98673717e+02,  1.97341681e+02,\n",
       "        2.00816093e+02,  1.99932865e+02,  2.00995116e+02,  2.02393244e+02,\n",
       "        2.04206468e+02,  2.04803731e+02,  2.06576931e+02,  2.06569834e+02,\n",
       "        2.07035035e+02,  2.08697769e+02,  2.09548711e+02,  2.10456714e+02,\n",
       "        2.11325381e+02,  2.15597635e+02,  2.13652593e+02,  2.15710479e+02,\n",
       "        2.16264712e+02,  2.17169435e+02,  2.18458042e+02,  2.18682313e+02,\n",
       "        2.17731815e+02,  2.21701373e+02,  2.20712028e+02,  2.22834892e+02,\n",
       "        2.24456997e+02,  2.26623431e+02,  2.23838289e+02,  2.25914675e+02,\n",
       "        2.27307991e+02,  2.29930460e+02,  2.32375020e+02,  2.31771482e+02,\n",
       "        2.30170478e+02,  2.35508717e+02,  2.33177546e+02,  2.34384596e+02,\n",
       "        2.34995243e+02,  2.38241399e+02,  2.37353553e+02,  2.38601649e+02,\n",
       "        2.40464631e+02,  2.42303213e+02,  2.44000435e+02,  2.42305419e+02,\n",
       "        2.43594905e+02,  2.47213579e+02,  2.44386048e+02,  2.46602561e+02,\n",
       "        2.49027057e+02,  2.49444194e+02,  2.50569498e+02,  2.50862234e+02,\n",
       "        2.53489794e+02,  2.54516982e+02,  2.55535732e+02,  2.53938286e+02,\n",
       "        2.56560426e+02,  2.55595326e+02,  2.56922165e+02,  2.59999618e+02,\n",
       "        2.59855181e+02,  2.61680991e+02,  2.60470092e+02,  2.64623893e+02,\n",
       "        2.64634030e+02,  2.64230518e+02,  2.66296368e+02,  2.65577137e+02,\n",
       "        2.67415298e+02,  2.70070128e+02,  2.69419071e+02,  2.71867530e+02,\n",
       "        2.71433768e+02,  2.73776620e+02,  2.74537517e+02,  2.75364211e+02,\n",
       "        2.77096040e+02,  2.77779016e+02,  2.78861886e+02,  2.79111089e+02,\n",
       "        2.80097293e+02,  2.83325085e+02,  2.82229887e+02,  2.81906444e+02,\n",
       "        2.84447459e+02,  2.82996786e+02,  2.87207076e+02,  2.87881154e+02,\n",
       "        2.87784095e+02,  2.89422847e+02,  2.90521963e+02,  2.89928043e+02,\n",
       "        2.91348214e+02,  2.93514123e+02,  2.94455866e+02,  2.94746369e+02,\n",
       "        2.95043618e+02,  2.98463729e+02,  2.97399213e+02,  2.97317390e+02,\n",
       "        2.98397878e+02,  3.01567575e+02,  3.02494703e+02,  3.03443948e+02,\n",
       "        3.04372440e+02,  3.05667997e+02,  3.04242681e+02,  3.06057387e+02,\n",
       "        3.08261359e+02,  3.08112610e+02,  3.10246166e+02,  3.11300996e+02,\n",
       "        3.11943375e+02,  3.11479052e+02,  3.12843227e+02,  3.15375384e+02,\n",
       "        3.15201902e+02,  3.17229901e+02,  3.18069958e+02,  3.19747762e+02,\n",
       "        3.20979783e+02,  3.21569096e+02,  3.21282467e+02,  3.21533564e+02,\n",
       "        3.22935003e+02,  3.23748309e+02,  3.24933428e+02,  3.25417593e+02,\n",
       "        3.29004563e+02,  3.28865247e+02,  3.30341685e+02,  3.32660457e+02,\n",
       "        3.31789355e+02,  3.32188045e+02,  3.33788564e+02,  3.35341440e+02,\n",
       "        3.37386070e+02,  3.37467479e+02,  3.37590158e+02,  3.38018761e+02,\n",
       "        3.38038341e+02,  3.38435914e+02,  3.42149592e+02,  3.43812111e+02,\n",
       "        3.43311230e+02,  3.45647063e+02,  3.47619706e+02,  3.46445366e+02,\n",
       "        3.47557051e+02,  3.51310104e+02,  3.50778840e+02,  3.51920560e+02,\n",
       "        3.51640862e+02,  3.52676338e+02,  3.53310980e+02,  3.54177766e+02,\n",
       "        3.56559718e+02,  3.56600611e+02,  3.59181346e+02,  3.58991978e+02,\n",
       "        3.59198125e+02,  3.60414488e+02,  3.61524176e+02,  3.63529510e+02,\n",
       "        3.62666007e+02,  3.64424537e+02,  3.67761100e+02,  3.67329189e+02,\n",
       "        3.67792589e+02,  3.69078232e+02,  3.69475077e+02,  3.69983324e+02,\n",
       "        3.71271433e+02,  3.71678191e+02,  3.73728622e+02,  3.75313337e+02,\n",
       "        3.75972397e+02,  3.76152119e+02,  3.78353223e+02,  3.80315057e+02,\n",
       "        3.80837430e+02,  3.80603469e+02,  3.82376214e+02,  3.83091708e+02,\n",
       "        3.83213777e+02,  3.82478065e+02,  3.85803025e+02,  3.87839143e+02,\n",
       "        3.87096958e+02,  3.89293170e+02,  3.90386873e+02,  3.90896175e+02,\n",
       "        3.92009454e+02,  3.94206803e+02,  3.95406774e+02,  3.94225190e+02,\n",
       "        3.94445948e+02,  3.95601561e+02,  3.97234695e+02,  3.98832261e+02,\n",
       "        4.00443452e+02,  4.00793724e+02,  4.03075780e+02,  4.01656310e+02,\n",
       "        4.02820079e+02,  4.04044485e+02,  4.05954300e+02,  4.07820327e+02,\n",
       "        4.08168978e+02,  4.09058889e+02,  4.10678299e+02,  4.13622682e+02,\n",
       "        4.10771203e+02,  4.13050907e+02,  4.15222844e+02,  4.14109030e+02,\n",
       "        4.17151005e+02,  4.16329475e+02,  4.17626212e+02,  4.18397844e+02,\n",
       "        4.19880711e+02,  4.20962145e+02,  4.20747520e+02,  4.22327801e+02,\n",
       "        4.23687881e+02,  4.25434643e+02,  4.24893646e+02,  4.27564190e+02,\n",
       "        4.27225434e+02,  4.28209081e+02,  4.31182201e+02,  4.32107829e+02,\n",
       "        4.30426761e+02,  4.30571271e+02,  4.32882702e+02,  4.34024433e+02,\n",
       "        4.35202953e+02,  4.34928506e+02,  4.38045899e+02,  4.41473835e+02,\n",
       "        4.39766235e+02,  4.40530483e+02,  4.42817305e+02,  4.41829808e+02,\n",
       "        4.44818715e+02,  4.45652592e+02,  4.46002641e+02,  4.47446499e+02,\n",
       "        4.49046133e+02,  4.49336915e+02,  4.49410656e+02,  4.52572008e+02,\n",
       "        4.53433517e+02,  4.52635214e+02,  4.55861772e+02,  4.53704477e+02,\n",
       "        4.56701461e+02,  4.59144772e+02,  4.56666421e+02,  4.58029970e+02,\n",
       "        4.60596266e+02,  4.61743165e+02,  4.61125259e+02,  4.62999050e+02,\n",
       "        4.63385194e+02,  4.65188465e+02,  4.67446788e+02,  4.68162954e+02,\n",
       "        4.68887868e+02,  4.67498900e+02,  4.69871425e+02,  4.72932116e+02,\n",
       "        4.71899462e+02,  4.73345302e+02,  4.72415412e+02,  4.76067686e+02,\n",
       "        4.76198154e+02,  4.76516200e+02,  4.78830294e+02,  4.79254382e+02,\n",
       "        4.80046003e+02,  4.79001388e+02,  4.81082902e+02,  4.83760312e+02,\n",
       "        4.83514263e+02,  4.83668615e+02,  4.85437778e+02,  4.86883840e+02,\n",
       "        4.88480520e+02,  4.87858574e+02,  4.91399256e+02,  4.91920414e+02,\n",
       "        4.91141596e+02,  4.92436826e+02,  4.93945029e+02,  4.96296757e+02,\n",
       "        4.96653184e+02,  4.95339867e+02,  4.97946557e+02,  4.97602295e+02,\n",
       "        4.99399066e+02,  5.03171968e+02,  5.02540389e+02,  5.00754191e+02,\n",
       "        5.04302826e+02,  5.05177615e+02,  5.06614963e+02,  5.07759338e+02,\n",
       "        5.06668267e+02,  5.07548704e+02,  5.08826479e+02,  5.11060036e+02,\n",
       "        5.11914250e+02,  5.14147811e+02,  5.13792600e+02,  5.15398215e+02,\n",
       "        5.15633190e+02,  5.16165174e+02,  5.18818531e+02,  5.20127162e+02,\n",
       "        5.21147435e+02,  5.21798397e+02,  5.22105351e+02,  5.22797324e+02,\n",
       "        5.23786418e+02,  5.26318650e+02,  5.24652010e+02,  5.27331390e+02,\n",
       "        5.28571631e+02,  5.29817559e+02,  5.29879207e+02,  5.29807386e+02,\n",
       "        5.32421953e+02,  5.33604133e+02,  5.34386890e+02,  5.34130888e+02,\n",
       "        5.34198695e+02,  5.36124262e+02,  5.38462725e+02,  5.40070032e+02,\n",
       "        5.40917789e+02,  5.42305781e+02,  5.42895311e+02,  5.43887030e+02,\n",
       "        5.42535397e+02,  5.46900435e+02,  5.45332658e+02,  5.45762571e+02,\n",
       "        5.48125313e+02,  5.49478931e+02,  5.50437595e+02,  5.49764019e+02,\n",
       "        5.52800590e+02,  5.52838417e+02,  5.53275779e+02,  5.56013709e+02,\n",
       "        5.55661424e+02,  5.58203004e+02,  5.58144487e+02,  5.59583300e+02,\n",
       "        5.60759759e+02,  5.58824065e+02,  5.62568598e+02,  5.63289764e+02,\n",
       "        5.64641626e+02,  5.63916312e+02,  5.66099630e+02,  5.67440944e+02,\n",
       "        5.69380968e+02,  5.71835092e+02,  5.69338912e+02,  5.71327249e+02,\n",
       "        5.71988044e+02,  5.73294609e+02,  5.74226896e+02,  5.75497627e+02,\n",
       "        5.76062889e+02,  5.75229865e+02,  5.78307602e+02,  5.77887954e+02,\n",
       "        5.80506422e+02,  5.82256708e+02,  5.81455129e+02,  5.82444507e+02,\n",
       "        5.84848007e+02,  5.84757507e+02,  5.84855521e+02,  5.85391186e+02,\n",
       "        5.87428799e+02,  5.89152421e+02,  5.90269854e+02,  5.90485448e+02,\n",
       "        5.92412552e+02,  5.94558550e+02,  5.92907905e+02,  5.95189420e+02,\n",
       "        5.96898624e+02,  5.96585350e+02,  5.97892388e+02,  5.98370589e+02,\n",
       "        5.99566539e+02,  6.01690482e+02,  6.02718334e+02,  6.02995512e+02,\n",
       "        6.03695425e+02,  6.06028797e+02,  6.05913595e+02,  6.05343926e+02,\n",
       "        6.08539464e+02,  6.08624472e+02,  6.10511304e+02,  6.10435365e+02,\n",
       "        6.11126514e+02,  6.11764530e+02,  6.15078062e+02,  6.15268159e+02,\n",
       "        6.15986496e+02,  6.17388804e+02,  6.15592636e+02,  6.19286405e+02,\n",
       "        6.20984306e+02,  6.20398040e+02,  6.23236646e+02,  6.22589405e+02,\n",
       "        6.25108954e+02,  6.25815002e+02,  6.25681718e+02,  6.26666994e+02,\n",
       "        6.26225145e+02,  6.29619435e+02,  6.29599729e+02,  6.29869789e+02,\n",
       "        6.31947248e+02,  6.34173779e+02,  6.33805825e+02,  6.34648631e+02,\n",
       "        6.37708507e+02,  6.37441256e+02,  6.38605703e+02,  6.39801823e+02,\n",
       "        6.40514261e+02,  6.41112461e+02,  6.41645178e+02,  6.43325402e+02,\n",
       "        6.45843225e+02,  6.45772603e+02,  6.46469066e+02,  6.46872845e+02,\n",
       "        6.48203219e+02,  6.48532404e+02,  6.49967422e+02,  6.51537946e+02,\n",
       "        6.51354665e+02,  6.53527287e+02,  6.53759061e+02,  6.56003527e+02,\n",
       "        6.58330554e+02,  6.55984091e+02,  6.58618857e+02,  6.58604563e+02,\n",
       "        6.61046706e+02,  6.60309331e+02,  6.61258182e+02,  6.62735930e+02,\n",
       "        6.63342421e+02,  6.67547727e+02,  6.67517806e+02,  6.65351391e+02,\n",
       "        6.68609744e+02,  6.70522453e+02,  6.70261875e+02,  6.70537846e+02,\n",
       "        6.72225947e+02,  6.70922165e+02,  6.73915530e+02,  6.75933933e+02,\n",
       "        6.75659992e+02,  6.76512231e+02,  6.78775037e+02,  6.79579621e+02,\n",
       "        6.79249455e+02,  6.81487820e+02,  6.83536700e+02,  6.82358804e+02,\n",
       "        6.83724988e+02,  6.85839257e+02,  6.84308738e+02,  6.84909780e+02,\n",
       "        6.86328304e+02,  6.88959514e+02,  6.90483697e+02,  6.90037369e+02,\n",
       "        6.92889428e+02,  6.93372460e+02,  6.93324844e+02,  6.95158016e+02,\n",
       "        6.98698723e+02,  6.95406539e+02,  6.97928645e+02,  6.97985346e+02,\n",
       "        7.01028962e+02,  7.02618408e+02,  7.01717269e+02,  7.03359888e+02,\n",
       "        7.04809234e+02,  7.05326407e+02,  7.06424976e+02,  7.06183939e+02,\n",
       "        7.08140038e+02,  7.08555730e+02,  7.09140219e+02,  7.11767048e+02,\n",
       "        7.10187996e+02,  7.13391437e+02,  7.15684640e+02,  7.14459578e+02,\n",
       "        7.18896601e+02,  7.17455178e+02,  7.19329545e+02,  7.19788361e+02,\n",
       "        7.18820487e+02,  7.20913564e+02,  7.21817833e+02,  7.21496801e+02,\n",
       "        7.24640407e+02,  7.25912044e+02,  7.24733716e+02,  7.26389990e+02,\n",
       "        7.28187492e+02,  7.28089804e+02,  7.29537736e+02,  7.30786742e+02,\n",
       "        7.31382231e+02,  7.31218479e+02,  7.33309371e+02,  7.36296421e+02,\n",
       "        7.34536347e+02,  7.39266475e+02,  7.36866890e+02,  7.40327266e+02,\n",
       "        7.40538393e+02,  7.39450809e+02,  7.43882780e+02,  7.43948743e+02,\n",
       "        7.41693980e+02,  7.43505730e+02,  7.45454425e+02,  7.46893155e+02,\n",
       "        7.48582199e+02,  7.50697368e+02,  7.49374394e+02,  7.51564278e+02,\n",
       "        7.51313214e+02,  7.51415814e+02,  7.54459657e+02,  7.54394386e+02,\n",
       "        7.57978593e+02,  7.57696910e+02,  7.58360454e+02,  7.57792153e+02,\n",
       "        7.59217096e+02,  7.60693117e+02,  7.62756009e+02,  7.62121642e+02,\n",
       "        7.65533173e+02,  7.64899373e+02,  7.67046008e+02,  7.65142271e+02,\n",
       "        7.67790212e+02,  7.69865819e+02,  7.70497782e+02,  7.70249935e+02,\n",
       "        7.71733128e+02,  7.72170954e+02,  7.74128077e+02,  7.75247294e+02,\n",
       "        7.76455419e+02,  7.76602486e+02,  7.77935031e+02,  7.78301731e+02,\n",
       "        7.79121087e+02,  7.82241929e+02,  7.82651274e+02,  7.83124842e+02,\n",
       "        7.83756576e+02,  7.84670046e+02,  7.85374328e+02,  7.86004015e+02,\n",
       "        7.87670093e+02,  7.89761317e+02,  7.89149254e+02,  7.91841423e+02,\n",
       "        7.91205625e+02,  7.93651446e+02,  7.92691890e+02,  7.94020489e+02,\n",
       "        7.97579922e+02,  7.95561656e+02,  7.98248446e+02,  7.99063315e+02,\n",
       "        8.01198491e+02,  8.00548146e+02,  8.02092159e+02,  8.02872493e+02,\n",
       "        8.04477366e+02,  8.04374925e+02,  8.06243845e+02,  8.05385327e+02,\n",
       "        8.08626474e+02,  8.09391429e+02,  8.12251796e+02,  8.11894616e+02,\n",
       "        8.13809478e+02,  8.10417656e+02,  8.12372372e+02,  8.14246898e+02,\n",
       "        8.16389420e+02,  8.16336116e+02,  8.15253003e+02,  8.18952260e+02,\n",
       "        8.19740393e+02,  8.22520218e+02,  8.22796101e+02,  8.21498527e+02,\n",
       "        8.25312731e+02,  8.24471280e+02,  8.26386905e+02,  8.28914176e+02,\n",
       "        8.28972572e+02,  8.29907387e+02,  8.30080892e+02,  8.30908307e+02,\n",
       "        8.30519520e+02,  8.32724823e+02,  8.32671935e+02,  8.34213727e+02,\n",
       "        8.36012779e+02,  8.37461977e+02,  8.39688084e+02,  8.39893343e+02,\n",
       "        8.38402001e+02,  8.42489769e+02,  8.41649956e+02,  8.42437708e+02,\n",
       "        8.43395028e+02,  8.47092091e+02,  8.46103628e+02,  8.44304663e+02,\n",
       "        8.46244032e+02,  8.49291943e+02,  8.50378802e+02,  8.50678237e+02,\n",
       "        8.52672642e+02,  8.53207222e+02,  8.54714934e+02,  8.55540984e+02,\n",
       "        8.55360493e+02,  8.55928254e+02,  8.56486297e+02,  8.59266923e+02,\n",
       "        8.60512861e+02,  8.61068292e+02,  8.61492348e+02,  8.63897981e+02,\n",
       "        8.64067751e+02,  8.65636761e+02,  8.65967775e+02,  8.66866327e+02,\n",
       "        8.68445462e+02,  8.69240677e+02,  8.70954450e+02,  8.72140306e+02,\n",
       "        8.72254353e+02,  8.72680929e+02,  8.75391091e+02,  8.74819752e+02,\n",
       "        8.74483387e+02,  8.76443558e+02,  8.78996023e+02,  8.79742839e+02,\n",
       "        8.80119305e+02,  8.79723792e+02,  8.84067222e+02,  8.83535887e+02,\n",
       "        8.83196560e+02,  8.84719515e+02,  8.86923449e+02,  8.86291699e+02,\n",
       "        8.87200251e+02,  8.88852465e+02,  8.89371609e+02,  8.90736990e+02,\n",
       "        8.92990681e+02,  8.91967078e+02,  8.94167102e+02,  8.94710853e+02,\n",
       "        8.97985369e+02,  8.97662560e+02,  8.98918008e+02,  8.98389279e+02,\n",
       "        8.98737411e+02,  9.01236949e+02,  9.00716015e+02,  9.03386573e+02,\n",
       "        9.03054098e+02,  9.04141740e+02,  9.04197939e+02,  9.07787462e+02,\n",
       "        9.08443429e+02,  9.10106730e+02,  9.11141591e+02,  9.10651555e+02,\n",
       "        9.11591714e+02,  9.13277718e+02,  9.14849553e+02,  9.13406010e+02,\n",
       "        9.15807283e+02,  9.16645569e+02,  9.19914145e+02,  9.18990276e+02,\n",
       "        9.19543394e+02,  9.20993718e+02,  9.21467457e+02,  9.23987967e+02,\n",
       "        9.24058113e+02,  9.25805857e+02,  9.26109580e+02,  9.26280738e+02,\n",
       "        9.28972237e+02,  9.29491437e+02,  9.28656046e+02,  9.30058407e+02,\n",
       "        9.32881062e+02,  9.32656890e+02,  9.33373976e+02,  9.35802831e+02,\n",
       "        9.34891694e+02,  9.36127903e+02,  9.37381234e+02,  9.38491262e+02,\n",
       "        9.40527243e+02,  9.42100142e+02,  9.42520042e+02,  9.43369129e+02,\n",
       "        9.43020739e+02,  9.45585654e+02,  9.46983222e+02,  9.47560582e+02,\n",
       "        9.47348355e+02,  9.48870111e+02,  9.51641459e+02,  9.50577030e+02,\n",
       "        9.50556675e+02,  9.54000941e+02,  9.53819931e+02,  9.54879655e+02,\n",
       "        9.54811426e+02,  9.57521140e+02,  9.56512528e+02,  9.59066142e+02,\n",
       "        9.60124173e+02,  9.62154084e+02,  9.62588915e+02,  9.63241189e+02,\n",
       "        9.63320817e+02,  9.63257679e+02,  9.67414605e+02,  9.67153832e+02,\n",
       "        9.66874234e+02,  9.66809981e+02,  9.69614763e+02,  9.69418958e+02,\n",
       "        9.71767380e+02,  9.73025530e+02,  9.75642832e+02,  9.76205103e+02,\n",
       "        9.76139484e+02,  9.77347517e+02,  9.76999598e+02,  9.78283793e+02,\n",
       "        9.81164099e+02,  9.80657729e+02,  9.80407466e+02,  9.81520488e+02,\n",
       "        9.84307797e+02,  9.83201979e+02,  9.86287946e+02,  9.86949726e+02,\n",
       "        9.87203959e+02,  9.90640011e+02,  9.90521624e+02,  9.91041207e+02,\n",
       "        9.90518094e+02,  9.95269107e+02,  9.93198829e+02,  9.96296265e+02,\n",
       "        9.95048646e+02,  9.96540423e+02,  9.98374768e+02,  9.97531614e+02])"
      ]
     },
     "execution_count": 60,
     "metadata": {},
     "output_type": "execute_result"
    }
   ],
   "source": [
    "data = np.arange(0,1000)\n",
    "np.random.normal(data)"
   ]
  },
  {
   "cell_type": "markdown",
   "metadata": {},
   "source": [
    "## Question 11\n",
    "\n",
    "Generate binomial distribution data for fair coin flipping of size 100. Assume `0` for head and `1` for tail.\n",
    "\n",
    "[ **Hint:** For fair coin flip `p=0.5` ]"
   ]
  },
  {
   "cell_type": "markdown",
   "metadata": {},
   "source": [
    "#### Binomial Distribution"
   ]
  },
  {
   "cell_type": "markdown",
   "metadata": {},
   "source": [
    "It is defined by 2 parameters: the probability of success and the number of trails. It tells about how likely it is possible to get a given number of successes in n trails."
   ]
  },
  {
   "cell_type": "code",
   "execution_count": 63,
   "metadata": {},
   "outputs": [
    {
     "data": {
      "text/plain": [
       "array([7.88860905e-31, 7.88860905e-29, 3.90486148e-27, 1.27558808e-25,\n",
       "       3.09330110e-24, 5.93913812e-23, 9.40363535e-22, 1.26277389e-20,\n",
       "       1.46797465e-19, 1.50059631e-18, 1.36554264e-17, 1.11726216e-16,\n",
       "       8.28636101e-16, 5.60922899e-15, 3.48573516e-14, 1.99848816e-13,\n",
       "       1.06169683e-12, 5.24603142e-12, 2.41900338e-11, 1.04399093e-10,\n",
       "       4.22816327e-10, 1.61072886e-09, 5.78398092e-09, 1.96152396e-08,\n",
       "       6.29322272e-08, 1.91313971e-07, 5.51867223e-07, 1.51252498e-06,\n",
       "       3.94336870e-06, 9.79043264e-06, 2.31706906e-05, 5.23209142e-05,\n",
       "       1.12816971e-04, 2.32471335e-04, 4.58105277e-04, 8.63855666e-04,\n",
       "       1.55973940e-03, 2.69792760e-03, 4.47287998e-03, 7.11073227e-03,\n",
       "       1.08438667e-02, 1.58690732e-02, 2.22922695e-02, 3.00686426e-02,\n",
       "       3.89525598e-02, 4.84742966e-02, 5.79583981e-02, 6.65905000e-02,\n",
       "       7.35270104e-02, 7.80286641e-02, 7.95892374e-02, 7.80286641e-02,\n",
       "       7.35270104e-02, 6.65905000e-02, 5.79583981e-02, 4.84742966e-02,\n",
       "       3.89525598e-02, 3.00686426e-02, 2.22922695e-02, 1.58690732e-02,\n",
       "       1.08438667e-02, 7.11073227e-03, 4.47287998e-03, 2.69792760e-03,\n",
       "       1.55973940e-03, 8.63855666e-04, 4.58105277e-04, 2.32471335e-04,\n",
       "       1.12816971e-04, 5.23209142e-05, 2.31706906e-05, 9.79043264e-06,\n",
       "       3.94336870e-06, 1.51252498e-06, 5.51867223e-07, 1.91313971e-07,\n",
       "       6.29322272e-08, 1.96152396e-08, 5.78398092e-09, 1.61072886e-09,\n",
       "       4.22816327e-10, 1.04399093e-10, 2.41900338e-11, 5.24603142e-12,\n",
       "       1.06169683e-12, 1.99848816e-13, 3.48573516e-14, 5.60922899e-15,\n",
       "       8.28636101e-16, 1.11726216e-16, 1.36554264e-17, 1.50059631e-18,\n",
       "       1.46797465e-19, 1.26277389e-20, 9.40363535e-22, 5.93913812e-23,\n",
       "       3.09330110e-24, 1.27558808e-25, 3.90486148e-27, 7.88860905e-29])"
      ]
     },
     "execution_count": 63,
     "metadata": {},
     "output_type": "execute_result"
    }
   ],
   "source": [
    "p=0.5\n",
    "k=np.arange(0,100)\n",
    "n=100\n",
    "binomial = stats.binom.pmf(k,n,p)\n",
    "binomial"
   ]
  },
  {
   "cell_type": "markdown",
   "metadata": {},
   "source": [
    "#### Visualizing Poisson Distribution"
   ]
  },
  {
   "cell_type": "markdown",
   "metadata": {},
   "source": [
    "It models the probability of seeing certain number of successes within a time interval."
   ]
  },
  {
   "cell_type": "code",
   "execution_count": 64,
   "metadata": {},
   "outputs": [
    {
     "data": {
      "image/png": "[encoded data removed]",
      "text/plain": [
       "<Figure size 432x288 with 1 Axes>"
      ]
     },
     "metadata": {},
     "output_type": "display_data"
    }
   ],
   "source": [
    "poisson_data = stats.poisson.rvs(size=100,mu=10)\n",
    "\n",
    "pd.DataFrame(poisson_data).hist()\n",
    "\n",
    "plt.show()"
   ]
  },
  {
   "cell_type": "code",
   "execution_count": null,
   "metadata": {},
   "outputs": [],
   "source": []
  }
 ],
 "metadata": {
  "kernelspec": {
   "display_name": "Python 3",
   "language": "python",
   "name": "python3"
  },
  "language_info": {
   "codemirror_mode": {
    "name": "ipython",
    "version": 3
   },
   "file_extension": ".py",
   "mimetype": "text/x-python",
   "name": "python",
   "nbconvert_exporter": "python",
   "pygments_lexer": "ipython3",
   "version": "3.6.5"
  }
 },
 "nbformat": 4,
 "nbformat_minor": 2
}
